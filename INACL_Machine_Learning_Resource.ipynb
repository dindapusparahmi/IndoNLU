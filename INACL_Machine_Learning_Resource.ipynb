{
  "nbformat": 4,
  "nbformat_minor": 0,
  "metadata": {
    "colab": {
      "provenance": [],
      "authorship_tag": "ABX9TyPtoIXnytTCAHtg+9RzShep"
    },
    "kernelspec": {
      "name": "python3",
      "display_name": "Python 3"
    },
    "language_info": {
      "name": "python"
    }
  },
  "cells": [
    {
      "cell_type": "code",
      "source": [
        "import numpy as np\n",
        "import pandas as pd\n",
        "import re #regular expression library for searching words in text/paragraph\n",
        "import nltk \n",
        "from nltk.corpus import stopwords\n",
        "from nltk.stem.porter import PorterStemmer\n",
        "from sklearn.feature_extraction.text import TfidfVectorizer\n",
        "from sklearn.model_selection import train_test_split\n",
        "from sklearn.neighbors import KNeighborsClassifier\n",
        "from sklearn.model_selection import cross_val_score\n",
        "from sklearn.metrics import precision_score\n",
        "from sklearn.metrics import recall_score\n",
        "from sklearn.metrics import f1_score"
      ],
      "metadata": {
        "id": "B7cgWZf8MN2e"
      },
      "execution_count": 4,
      "outputs": []
    },
    {
      "cell_type": "code",
      "source": [
        "from google.colab import drive\n",
        "drive.mount('/content/drive')"
      ],
      "metadata": {
        "colab": {
          "base_uri": "https://localhost:8080/"
        },
        "id": "Gmr5UtNAMQOJ",
        "outputId": "0c02b508-a72d-424c-a91b-0ba8706e4dad"
      },
      "execution_count": 5,
      "outputs": [
        {
          "output_type": "stream",
          "name": "stdout",
          "text": [
            "Mounted at /content/drive\n"
          ]
        }
      ]
    },
    {
      "cell_type": "code",
      "source": [
        "data_path ='/content/drive/MyDrive/000A SKRIPSI/SKRIPSI CODE/Data_AllCollumnMerged/MERGED_SELFLABELDATA_BERT - Sheet1.csv'\n",
        "data=pd.read_csv(data_path)\n",
        "data.head()"
      ],
      "metadata": {
        "colab": {
          "base_uri": "https://localhost:8080/",
          "height": 669
        },
        "id": "5BvlKtQ7MSYK",
        "outputId": "66084bdd-4df3-423d-f0ce-4de39afd3c80"
      },
      "execution_count": 22,
      "outputs": [
        {
          "output_type": "execute_result",
          "data": {
            "text/plain": [
              "                                                link  \\\n",
              "0  https://www.detik.com/jatim/berita/d-6259971/c...   \n",
              "1  https://finance.detik.com/properti/d-6248265/f...   \n",
              "2  https://finance.detik.com/berita-ekonomi-bisni...   \n",
              "3  https://finance.detik.com/berita-ekonomi-bisni...   \n",
              "4  https://www.detik.com/jabar/bisnis/d-6232506/h...   \n",
              "\n",
              "                                               judul  \\\n",
              "0  Cara Efisien Pemkab Banyuwangi Kendalikan Hama...   \n",
              "1  Food Estate Jokowi Tambah Banyak, Terbaru Lumb...   \n",
              "2  Mirisnya Nasib Petani Kala RI Berhasil Swasemb...   \n",
              "3  Miris! RI Berhasil Swasembada Beras, tapi Nasi...   \n",
              "4  Hore! Nelayan Indramayu Kini Punya Gudang Beku...   \n",
              "\n",
              "                               penulis                       tanggal  \\\n",
              "0           Ardian Fanani - detikJatim  Senin, 29 Agu 2022 11:37 WIB   \n",
              "1  Shafira Cendra Arini - detikFinance  Senin, 22 Agu 2022 20:45 WIB   \n",
              "2   Herdi Alif Al Hikam - detikFinance  Senin, 15 Agu 2022 19:00 WIB   \n",
              "3   Herdi Alif Al Hikam - detikFinance  Senin, 15 Agu 2022 13:02 WIB   \n",
              "4     Jihaan Khoirunnisaa - detikJabar  Sabtu, 13 Agu 2022 10:18 WIB   \n",
              "\n",
              "                                              narasi  relevansi rev_sektor  \\\n",
              "0  Kabupaten Banyuwangi mengendalikan hama tikus ...          1          A   \n",
              "1  Sejak 2020 Presiden Joko Widodo (Jokowi) telah...          1          A   \n",
              "2  Indonesia mampu melakukan swasembada beras. Da...          1          A   \n",
              "3  Indonesia dinilai mampu melakukan swasembada b...          1          A   \n",
              "4  Menteri Kelautan dan Perikanan (Menteri KP RI)...          1          A   \n",
              "\n",
              "                                               frasa                   scope  \\\n",
              "0  Banyuwangi menyiapkan 342 rubuha yang akan dis...  banyuwangi, jawa timur   \n",
              "1   food estate di Pulau Jawa. Di pulau ini, ada ...                Nasional   \n",
              "2  Indonesia mampu melakukan swasembada beras. Da...                Nasional   \n",
              "3  Zulhas memaparkan dalam tiga tahun terakhir In...                Nasional   \n",
              "4   Indramayu memiliki potensi pengelolaan sumber...   Indramayu, Jawa Barat   \n",
              "\n",
              "  pdb _movement growth  lag time_ref  \n",
              "0            up      0    0       Q3  \n",
              "1            UP      y    0       Q3  \n",
              "2            up      y    0       Q3  \n",
              "3            up      y    0       Q3  \n",
              "4            UP      0    0       Q3  "
            ],
            "text/html": [
              "\n",
              "  <div id=\"df-06260b76-572b-4328-8d03-5113765792e7\">\n",
              "    <div class=\"colab-df-container\">\n",
              "      <div>\n",
              "<style scoped>\n",
              "    .dataframe tbody tr th:only-of-type {\n",
              "        vertical-align: middle;\n",
              "    }\n",
              "\n",
              "    .dataframe tbody tr th {\n",
              "        vertical-align: top;\n",
              "    }\n",
              "\n",
              "    .dataframe thead th {\n",
              "        text-align: right;\n",
              "    }\n",
              "</style>\n",
              "<table border=\"1\" class=\"dataframe\">\n",
              "  <thead>\n",
              "    <tr style=\"text-align: right;\">\n",
              "      <th></th>\n",
              "      <th>link</th>\n",
              "      <th>judul</th>\n",
              "      <th>penulis</th>\n",
              "      <th>tanggal</th>\n",
              "      <th>narasi</th>\n",
              "      <th>relevansi</th>\n",
              "      <th>rev_sektor</th>\n",
              "      <th>frasa</th>\n",
              "      <th>scope</th>\n",
              "      <th>pdb _movement</th>\n",
              "      <th>growth</th>\n",
              "      <th>lag</th>\n",
              "      <th>time_ref</th>\n",
              "    </tr>\n",
              "  </thead>\n",
              "  <tbody>\n",
              "    <tr>\n",
              "      <th>0</th>\n",
              "      <td>https://www.detik.com/jatim/berita/d-6259971/c...</td>\n",
              "      <td>Cara Efisien Pemkab Banyuwangi Kendalikan Hama...</td>\n",
              "      <td>Ardian Fanani - detikJatim</td>\n",
              "      <td>Senin, 29 Agu 2022 11:37 WIB</td>\n",
              "      <td>Kabupaten Banyuwangi mengendalikan hama tikus ...</td>\n",
              "      <td>1</td>\n",
              "      <td>A</td>\n",
              "      <td>Banyuwangi menyiapkan 342 rubuha yang akan dis...</td>\n",
              "      <td>banyuwangi, jawa timur</td>\n",
              "      <td>up</td>\n",
              "      <td>0</td>\n",
              "      <td>0</td>\n",
              "      <td>Q3</td>\n",
              "    </tr>\n",
              "    <tr>\n",
              "      <th>1</th>\n",
              "      <td>https://finance.detik.com/properti/d-6248265/f...</td>\n",
              "      <td>Food Estate Jokowi Tambah Banyak, Terbaru Lumb...</td>\n",
              "      <td>Shafira Cendra Arini - detikFinance</td>\n",
              "      <td>Senin, 22 Agu 2022 20:45 WIB</td>\n",
              "      <td>Sejak 2020 Presiden Joko Widodo (Jokowi) telah...</td>\n",
              "      <td>1</td>\n",
              "      <td>A</td>\n",
              "      <td>food estate di Pulau Jawa. Di pulau ini, ada ...</td>\n",
              "      <td>Nasional</td>\n",
              "      <td>UP</td>\n",
              "      <td>y</td>\n",
              "      <td>0</td>\n",
              "      <td>Q3</td>\n",
              "    </tr>\n",
              "    <tr>\n",
              "      <th>2</th>\n",
              "      <td>https://finance.detik.com/berita-ekonomi-bisni...</td>\n",
              "      <td>Mirisnya Nasib Petani Kala RI Berhasil Swasemb...</td>\n",
              "      <td>Herdi Alif Al Hikam - detikFinance</td>\n",
              "      <td>Senin, 15 Agu 2022 19:00 WIB</td>\n",
              "      <td>Indonesia mampu melakukan swasembada beras. Da...</td>\n",
              "      <td>1</td>\n",
              "      <td>A</td>\n",
              "      <td>Indonesia mampu melakukan swasembada beras. Da...</td>\n",
              "      <td>Nasional</td>\n",
              "      <td>up</td>\n",
              "      <td>y</td>\n",
              "      <td>0</td>\n",
              "      <td>Q3</td>\n",
              "    </tr>\n",
              "    <tr>\n",
              "      <th>3</th>\n",
              "      <td>https://finance.detik.com/berita-ekonomi-bisni...</td>\n",
              "      <td>Miris! RI Berhasil Swasembada Beras, tapi Nasi...</td>\n",
              "      <td>Herdi Alif Al Hikam - detikFinance</td>\n",
              "      <td>Senin, 15 Agu 2022 13:02 WIB</td>\n",
              "      <td>Indonesia dinilai mampu melakukan swasembada b...</td>\n",
              "      <td>1</td>\n",
              "      <td>A</td>\n",
              "      <td>Zulhas memaparkan dalam tiga tahun terakhir In...</td>\n",
              "      <td>Nasional</td>\n",
              "      <td>up</td>\n",
              "      <td>y</td>\n",
              "      <td>0</td>\n",
              "      <td>Q3</td>\n",
              "    </tr>\n",
              "    <tr>\n",
              "      <th>4</th>\n",
              "      <td>https://www.detik.com/jabar/bisnis/d-6232506/h...</td>\n",
              "      <td>Hore! Nelayan Indramayu Kini Punya Gudang Beku...</td>\n",
              "      <td>Jihaan Khoirunnisaa - detikJabar</td>\n",
              "      <td>Sabtu, 13 Agu 2022 10:18 WIB</td>\n",
              "      <td>Menteri Kelautan dan Perikanan (Menteri KP RI)...</td>\n",
              "      <td>1</td>\n",
              "      <td>A</td>\n",
              "      <td>Indramayu memiliki potensi pengelolaan sumber...</td>\n",
              "      <td>Indramayu, Jawa Barat</td>\n",
              "      <td>UP</td>\n",
              "      <td>0</td>\n",
              "      <td>0</td>\n",
              "      <td>Q3</td>\n",
              "    </tr>\n",
              "  </tbody>\n",
              "</table>\n",
              "</div>\n",
              "      <button class=\"colab-df-convert\" onclick=\"convertToInteractive('df-06260b76-572b-4328-8d03-5113765792e7')\"\n",
              "              title=\"Convert this dataframe to an interactive table.\"\n",
              "              style=\"display:none;\">\n",
              "        \n",
              "  <svg xmlns=\"http://www.w3.org/2000/svg\" height=\"24px\"viewBox=\"0 0 24 24\"\n",
              "       width=\"24px\">\n",
              "    <path d=\"M0 0h24v24H0V0z\" fill=\"none\"/>\n",
              "    <path d=\"M18.56 5.44l.94 2.06.94-2.06 2.06-.94-2.06-.94-.94-2.06-.94 2.06-2.06.94zm-11 1L8.5 8.5l.94-2.06 2.06-.94-2.06-.94L8.5 2.5l-.94 2.06-2.06.94zm10 10l.94 2.06.94-2.06 2.06-.94-2.06-.94-.94-2.06-.94 2.06-2.06.94z\"/><path d=\"M17.41 7.96l-1.37-1.37c-.4-.4-.92-.59-1.43-.59-.52 0-1.04.2-1.43.59L10.3 9.45l-7.72 7.72c-.78.78-.78 2.05 0 2.83L4 21.41c.39.39.9.59 1.41.59.51 0 1.02-.2 1.41-.59l7.78-7.78 2.81-2.81c.8-.78.8-2.07 0-2.86zM5.41 20L4 18.59l7.72-7.72 1.47 1.35L5.41 20z\"/>\n",
              "  </svg>\n",
              "      </button>\n",
              "      \n",
              "  <style>\n",
              "    .colab-df-container {\n",
              "      display:flex;\n",
              "      flex-wrap:wrap;\n",
              "      gap: 12px;\n",
              "    }\n",
              "\n",
              "    .colab-df-convert {\n",
              "      background-color: #E8F0FE;\n",
              "      border: none;\n",
              "      border-radius: 50%;\n",
              "      cursor: pointer;\n",
              "      display: none;\n",
              "      fill: #1967D2;\n",
              "      height: 32px;\n",
              "      padding: 0 0 0 0;\n",
              "      width: 32px;\n",
              "    }\n",
              "\n",
              "    .colab-df-convert:hover {\n",
              "      background-color: #E2EBFA;\n",
              "      box-shadow: 0px 1px 2px rgba(60, 64, 67, 0.3), 0px 1px 3px 1px rgba(60, 64, 67, 0.15);\n",
              "      fill: #174EA6;\n",
              "    }\n",
              "\n",
              "    [theme=dark] .colab-df-convert {\n",
              "      background-color: #3B4455;\n",
              "      fill: #D2E3FC;\n",
              "    }\n",
              "\n",
              "    [theme=dark] .colab-df-convert:hover {\n",
              "      background-color: #434B5C;\n",
              "      box-shadow: 0px 1px 3px 1px rgba(0, 0, 0, 0.15);\n",
              "      filter: drop-shadow(0px 1px 2px rgba(0, 0, 0, 0.3));\n",
              "      fill: #FFFFFF;\n",
              "    }\n",
              "  </style>\n",
              "\n",
              "      <script>\n",
              "        const buttonEl =\n",
              "          document.querySelector('#df-06260b76-572b-4328-8d03-5113765792e7 button.colab-df-convert');\n",
              "        buttonEl.style.display =\n",
              "          google.colab.kernel.accessAllowed ? 'block' : 'none';\n",
              "\n",
              "        async function convertToInteractive(key) {\n",
              "          const element = document.querySelector('#df-06260b76-572b-4328-8d03-5113765792e7');\n",
              "          const dataTable =\n",
              "            await google.colab.kernel.invokeFunction('convertToInteractive',\n",
              "                                                     [key], {});\n",
              "          if (!dataTable) return;\n",
              "\n",
              "          const docLinkHtml = 'Like what you see? Visit the ' +\n",
              "            '<a target=\"_blank\" href=https://colab.research.google.com/notebooks/data_table.ipynb>data table notebook</a>'\n",
              "            + ' to learn more about interactive tables.';\n",
              "          element.innerHTML = '';\n",
              "          dataTable['output_type'] = 'display_data';\n",
              "          await google.colab.output.renderOutput(dataTable, element);\n",
              "          const docLink = document.createElement('div');\n",
              "          docLink.innerHTML = docLinkHtml;\n",
              "          element.appendChild(docLink);\n",
              "        }\n",
              "      </script>\n",
              "    </div>\n",
              "  </div>\n",
              "  "
            ]
          },
          "metadata": {},
          "execution_count": 22
        }
      ]
    },
    {
      "cell_type": "code",
      "source": [
        "# merging narasi, frasa, rev_sektor, pdb_movement\n",
        "data['content'] = data['judul']+' '+data['narasi']+' '+data['frasa']+' '+data['rev_sektor']\n",
        "data['content'].head()"
      ],
      "metadata": {
        "colab": {
          "base_uri": "https://localhost:8080/"
        },
        "id": "HnFRTvD7MhcO",
        "outputId": "9933d164-1237-442b-84d9-6ee3973cff1f"
      },
      "execution_count": 23,
      "outputs": [
        {
          "output_type": "execute_result",
          "data": {
            "text/plain": [
              "0    Cara Efisien Pemkab Banyuwangi Kendalikan Hama...\n",
              "1    Food Estate Jokowi Tambah Banyak, Terbaru Lumb...\n",
              "2    Mirisnya Nasib Petani Kala RI Berhasil Swasemb...\n",
              "3    Miris! RI Berhasil Swasembada Beras, tapi Nasi...\n",
              "4    Hore! Nelayan Indramayu Kini Punya Gudang Beku...\n",
              "Name: content, dtype: object"
            ]
          },
          "metadata": {},
          "execution_count": 23
        }
      ]
    },
    {
      "cell_type": "code",
      "source": [
        "data.head()"
      ],
      "metadata": {
        "colab": {
          "base_uri": "https://localhost:8080/",
          "height": 669
        },
        "id": "d9PKizRmMmme",
        "outputId": "64013933-b951-452d-82bc-918db644d256"
      },
      "execution_count": 24,
      "outputs": [
        {
          "output_type": "execute_result",
          "data": {
            "text/plain": [
              "                                                link  \\\n",
              "0  https://www.detik.com/jatim/berita/d-6259971/c...   \n",
              "1  https://finance.detik.com/properti/d-6248265/f...   \n",
              "2  https://finance.detik.com/berita-ekonomi-bisni...   \n",
              "3  https://finance.detik.com/berita-ekonomi-bisni...   \n",
              "4  https://www.detik.com/jabar/bisnis/d-6232506/h...   \n",
              "\n",
              "                                               judul  \\\n",
              "0  Cara Efisien Pemkab Banyuwangi Kendalikan Hama...   \n",
              "1  Food Estate Jokowi Tambah Banyak, Terbaru Lumb...   \n",
              "2  Mirisnya Nasib Petani Kala RI Berhasil Swasemb...   \n",
              "3  Miris! RI Berhasil Swasembada Beras, tapi Nasi...   \n",
              "4  Hore! Nelayan Indramayu Kini Punya Gudang Beku...   \n",
              "\n",
              "                               penulis                       tanggal  \\\n",
              "0           Ardian Fanani - detikJatim  Senin, 29 Agu 2022 11:37 WIB   \n",
              "1  Shafira Cendra Arini - detikFinance  Senin, 22 Agu 2022 20:45 WIB   \n",
              "2   Herdi Alif Al Hikam - detikFinance  Senin, 15 Agu 2022 19:00 WIB   \n",
              "3   Herdi Alif Al Hikam - detikFinance  Senin, 15 Agu 2022 13:02 WIB   \n",
              "4     Jihaan Khoirunnisaa - detikJabar  Sabtu, 13 Agu 2022 10:18 WIB   \n",
              "\n",
              "                                              narasi  relevansi rev_sektor  \\\n",
              "0  Kabupaten Banyuwangi mengendalikan hama tikus ...          1          A   \n",
              "1  Sejak 2020 Presiden Joko Widodo (Jokowi) telah...          1          A   \n",
              "2  Indonesia mampu melakukan swasembada beras. Da...          1          A   \n",
              "3  Indonesia dinilai mampu melakukan swasembada b...          1          A   \n",
              "4  Menteri Kelautan dan Perikanan (Menteri KP RI)...          1          A   \n",
              "\n",
              "                                               frasa                   scope  \\\n",
              "0  Banyuwangi menyiapkan 342 rubuha yang akan dis...  banyuwangi, jawa timur   \n",
              "1   food estate di Pulau Jawa. Di pulau ini, ada ...                Nasional   \n",
              "2  Indonesia mampu melakukan swasembada beras. Da...                Nasional   \n",
              "3  Zulhas memaparkan dalam tiga tahun terakhir In...                Nasional   \n",
              "4   Indramayu memiliki potensi pengelolaan sumber...   Indramayu, Jawa Barat   \n",
              "\n",
              "  pdb _movement growth  lag time_ref  \\\n",
              "0            up      0    0       Q3   \n",
              "1            UP      y    0       Q3   \n",
              "2            up      y    0       Q3   \n",
              "3            up      y    0       Q3   \n",
              "4            UP      0    0       Q3   \n",
              "\n",
              "                                             content  \n",
              "0  Cara Efisien Pemkab Banyuwangi Kendalikan Hama...  \n",
              "1  Food Estate Jokowi Tambah Banyak, Terbaru Lumb...  \n",
              "2  Mirisnya Nasib Petani Kala RI Berhasil Swasemb...  \n",
              "3  Miris! RI Berhasil Swasembada Beras, tapi Nasi...  \n",
              "4  Hore! Nelayan Indramayu Kini Punya Gudang Beku...  "
            ],
            "text/html": [
              "\n",
              "  <div id=\"df-b0bf623a-d5c9-4857-b0e9-b7e83ab4155a\">\n",
              "    <div class=\"colab-df-container\">\n",
              "      <div>\n",
              "<style scoped>\n",
              "    .dataframe tbody tr th:only-of-type {\n",
              "        vertical-align: middle;\n",
              "    }\n",
              "\n",
              "    .dataframe tbody tr th {\n",
              "        vertical-align: top;\n",
              "    }\n",
              "\n",
              "    .dataframe thead th {\n",
              "        text-align: right;\n",
              "    }\n",
              "</style>\n",
              "<table border=\"1\" class=\"dataframe\">\n",
              "  <thead>\n",
              "    <tr style=\"text-align: right;\">\n",
              "      <th></th>\n",
              "      <th>link</th>\n",
              "      <th>judul</th>\n",
              "      <th>penulis</th>\n",
              "      <th>tanggal</th>\n",
              "      <th>narasi</th>\n",
              "      <th>relevansi</th>\n",
              "      <th>rev_sektor</th>\n",
              "      <th>frasa</th>\n",
              "      <th>scope</th>\n",
              "      <th>pdb _movement</th>\n",
              "      <th>growth</th>\n",
              "      <th>lag</th>\n",
              "      <th>time_ref</th>\n",
              "      <th>content</th>\n",
              "    </tr>\n",
              "  </thead>\n",
              "  <tbody>\n",
              "    <tr>\n",
              "      <th>0</th>\n",
              "      <td>https://www.detik.com/jatim/berita/d-6259971/c...</td>\n",
              "      <td>Cara Efisien Pemkab Banyuwangi Kendalikan Hama...</td>\n",
              "      <td>Ardian Fanani - detikJatim</td>\n",
              "      <td>Senin, 29 Agu 2022 11:37 WIB</td>\n",
              "      <td>Kabupaten Banyuwangi mengendalikan hama tikus ...</td>\n",
              "      <td>1</td>\n",
              "      <td>A</td>\n",
              "      <td>Banyuwangi menyiapkan 342 rubuha yang akan dis...</td>\n",
              "      <td>banyuwangi, jawa timur</td>\n",
              "      <td>up</td>\n",
              "      <td>0</td>\n",
              "      <td>0</td>\n",
              "      <td>Q3</td>\n",
              "      <td>Cara Efisien Pemkab Banyuwangi Kendalikan Hama...</td>\n",
              "    </tr>\n",
              "    <tr>\n",
              "      <th>1</th>\n",
              "      <td>https://finance.detik.com/properti/d-6248265/f...</td>\n",
              "      <td>Food Estate Jokowi Tambah Banyak, Terbaru Lumb...</td>\n",
              "      <td>Shafira Cendra Arini - detikFinance</td>\n",
              "      <td>Senin, 22 Agu 2022 20:45 WIB</td>\n",
              "      <td>Sejak 2020 Presiden Joko Widodo (Jokowi) telah...</td>\n",
              "      <td>1</td>\n",
              "      <td>A</td>\n",
              "      <td>food estate di Pulau Jawa. Di pulau ini, ada ...</td>\n",
              "      <td>Nasional</td>\n",
              "      <td>UP</td>\n",
              "      <td>y</td>\n",
              "      <td>0</td>\n",
              "      <td>Q3</td>\n",
              "      <td>Food Estate Jokowi Tambah Banyak, Terbaru Lumb...</td>\n",
              "    </tr>\n",
              "    <tr>\n",
              "      <th>2</th>\n",
              "      <td>https://finance.detik.com/berita-ekonomi-bisni...</td>\n",
              "      <td>Mirisnya Nasib Petani Kala RI Berhasil Swasemb...</td>\n",
              "      <td>Herdi Alif Al Hikam - detikFinance</td>\n",
              "      <td>Senin, 15 Agu 2022 19:00 WIB</td>\n",
              "      <td>Indonesia mampu melakukan swasembada beras. Da...</td>\n",
              "      <td>1</td>\n",
              "      <td>A</td>\n",
              "      <td>Indonesia mampu melakukan swasembada beras. Da...</td>\n",
              "      <td>Nasional</td>\n",
              "      <td>up</td>\n",
              "      <td>y</td>\n",
              "      <td>0</td>\n",
              "      <td>Q3</td>\n",
              "      <td>Mirisnya Nasib Petani Kala RI Berhasil Swasemb...</td>\n",
              "    </tr>\n",
              "    <tr>\n",
              "      <th>3</th>\n",
              "      <td>https://finance.detik.com/berita-ekonomi-bisni...</td>\n",
              "      <td>Miris! RI Berhasil Swasembada Beras, tapi Nasi...</td>\n",
              "      <td>Herdi Alif Al Hikam - detikFinance</td>\n",
              "      <td>Senin, 15 Agu 2022 13:02 WIB</td>\n",
              "      <td>Indonesia dinilai mampu melakukan swasembada b...</td>\n",
              "      <td>1</td>\n",
              "      <td>A</td>\n",
              "      <td>Zulhas memaparkan dalam tiga tahun terakhir In...</td>\n",
              "      <td>Nasional</td>\n",
              "      <td>up</td>\n",
              "      <td>y</td>\n",
              "      <td>0</td>\n",
              "      <td>Q3</td>\n",
              "      <td>Miris! RI Berhasil Swasembada Beras, tapi Nasi...</td>\n",
              "    </tr>\n",
              "    <tr>\n",
              "      <th>4</th>\n",
              "      <td>https://www.detik.com/jabar/bisnis/d-6232506/h...</td>\n",
              "      <td>Hore! Nelayan Indramayu Kini Punya Gudang Beku...</td>\n",
              "      <td>Jihaan Khoirunnisaa - detikJabar</td>\n",
              "      <td>Sabtu, 13 Agu 2022 10:18 WIB</td>\n",
              "      <td>Menteri Kelautan dan Perikanan (Menteri KP RI)...</td>\n",
              "      <td>1</td>\n",
              "      <td>A</td>\n",
              "      <td>Indramayu memiliki potensi pengelolaan sumber...</td>\n",
              "      <td>Indramayu, Jawa Barat</td>\n",
              "      <td>UP</td>\n",
              "      <td>0</td>\n",
              "      <td>0</td>\n",
              "      <td>Q3</td>\n",
              "      <td>Hore! Nelayan Indramayu Kini Punya Gudang Beku...</td>\n",
              "    </tr>\n",
              "  </tbody>\n",
              "</table>\n",
              "</div>\n",
              "      <button class=\"colab-df-convert\" onclick=\"convertToInteractive('df-b0bf623a-d5c9-4857-b0e9-b7e83ab4155a')\"\n",
              "              title=\"Convert this dataframe to an interactive table.\"\n",
              "              style=\"display:none;\">\n",
              "        \n",
              "  <svg xmlns=\"http://www.w3.org/2000/svg\" height=\"24px\"viewBox=\"0 0 24 24\"\n",
              "       width=\"24px\">\n",
              "    <path d=\"M0 0h24v24H0V0z\" fill=\"none\"/>\n",
              "    <path d=\"M18.56 5.44l.94 2.06.94-2.06 2.06-.94-2.06-.94-.94-2.06-.94 2.06-2.06.94zm-11 1L8.5 8.5l.94-2.06 2.06-.94-2.06-.94L8.5 2.5l-.94 2.06-2.06.94zm10 10l.94 2.06.94-2.06 2.06-.94-2.06-.94-.94-2.06-.94 2.06-2.06.94z\"/><path d=\"M17.41 7.96l-1.37-1.37c-.4-.4-.92-.59-1.43-.59-.52 0-1.04.2-1.43.59L10.3 9.45l-7.72 7.72c-.78.78-.78 2.05 0 2.83L4 21.41c.39.39.9.59 1.41.59.51 0 1.02-.2 1.41-.59l7.78-7.78 2.81-2.81c.8-.78.8-2.07 0-2.86zM5.41 20L4 18.59l7.72-7.72 1.47 1.35L5.41 20z\"/>\n",
              "  </svg>\n",
              "      </button>\n",
              "      \n",
              "  <style>\n",
              "    .colab-df-container {\n",
              "      display:flex;\n",
              "      flex-wrap:wrap;\n",
              "      gap: 12px;\n",
              "    }\n",
              "\n",
              "    .colab-df-convert {\n",
              "      background-color: #E8F0FE;\n",
              "      border: none;\n",
              "      border-radius: 50%;\n",
              "      cursor: pointer;\n",
              "      display: none;\n",
              "      fill: #1967D2;\n",
              "      height: 32px;\n",
              "      padding: 0 0 0 0;\n",
              "      width: 32px;\n",
              "    }\n",
              "\n",
              "    .colab-df-convert:hover {\n",
              "      background-color: #E2EBFA;\n",
              "      box-shadow: 0px 1px 2px rgba(60, 64, 67, 0.3), 0px 1px 3px 1px rgba(60, 64, 67, 0.15);\n",
              "      fill: #174EA6;\n",
              "    }\n",
              "\n",
              "    [theme=dark] .colab-df-convert {\n",
              "      background-color: #3B4455;\n",
              "      fill: #D2E3FC;\n",
              "    }\n",
              "\n",
              "    [theme=dark] .colab-df-convert:hover {\n",
              "      background-color: #434B5C;\n",
              "      box-shadow: 0px 1px 3px 1px rgba(0, 0, 0, 0.15);\n",
              "      filter: drop-shadow(0px 1px 2px rgba(0, 0, 0, 0.3));\n",
              "      fill: #FFFFFF;\n",
              "    }\n",
              "  </style>\n",
              "\n",
              "      <script>\n",
              "        const buttonEl =\n",
              "          document.querySelector('#df-b0bf623a-d5c9-4857-b0e9-b7e83ab4155a button.colab-df-convert');\n",
              "        buttonEl.style.display =\n",
              "          google.colab.kernel.accessAllowed ? 'block' : 'none';\n",
              "\n",
              "        async function convertToInteractive(key) {\n",
              "          const element = document.querySelector('#df-b0bf623a-d5c9-4857-b0e9-b7e83ab4155a');\n",
              "          const dataTable =\n",
              "            await google.colab.kernel.invokeFunction('convertToInteractive',\n",
              "                                                     [key], {});\n",
              "          if (!dataTable) return;\n",
              "\n",
              "          const docLinkHtml = 'Like what you see? Visit the ' +\n",
              "            '<a target=\"_blank\" href=https://colab.research.google.com/notebooks/data_table.ipynb>data table notebook</a>'\n",
              "            + ' to learn more about interactive tables.';\n",
              "          element.innerHTML = '';\n",
              "          dataTable['output_type'] = 'display_data';\n",
              "          await google.colab.output.renderOutput(dataTable, element);\n",
              "          const docLink = document.createElement('div');\n",
              "          docLink.innerHTML = docLinkHtml;\n",
              "          element.appendChild(docLink);\n",
              "        }\n",
              "      </script>\n",
              "    </div>\n",
              "  </div>\n",
              "  "
            ]
          },
          "metadata": {},
          "execution_count": 24
        }
      ]
    },
    {
      "cell_type": "code",
      "source": [
        "# separating target label\n",
        "Y=data['pdb _movement']\n",
        "\n",
        "print(Y)"
      ],
      "metadata": {
        "colab": {
          "base_uri": "https://localhost:8080/"
        },
        "id": "35NL0t0zMoeo",
        "outputId": "ccdc5e9b-2ee7-490e-d994-8e3e598a8c77"
      },
      "execution_count": 25,
      "outputs": [
        {
          "output_type": "stream",
          "name": "stdout",
          "text": [
            "0         up\n",
            "1         UP\n",
            "2         up\n",
            "3         up\n",
            "4         UP\n",
            "        ... \n",
            "1528      up\n",
            "1529      up\n",
            "1530      up\n",
            "1531      up\n",
            "1532    down\n",
            "Name: pdb _movement, Length: 1533, dtype: object\n"
          ]
        }
      ]
    },
    {
      "cell_type": "code",
      "source": [
        "# separating feature and target\n",
        "X = data.drop(columns='pdb _movement', axis=1)\n",
        "print(X)"
      ],
      "metadata": {
        "colab": {
          "base_uri": "https://localhost:8080/"
        },
        "id": "HRcU-kuWMvRJ",
        "outputId": "aa2d0c75-c744-4d26-a8ba-7b4700142897"
      },
      "execution_count": 26,
      "outputs": [
        {
          "output_type": "stream",
          "name": "stdout",
          "text": [
            "                                                   link  \\\n",
            "0     https://www.detik.com/jatim/berita/d-6259971/c...   \n",
            "1     https://finance.detik.com/properti/d-6248265/f...   \n",
            "2     https://finance.detik.com/berita-ekonomi-bisni...   \n",
            "3     https://finance.detik.com/berita-ekonomi-bisni...   \n",
            "4     https://www.detik.com/jabar/bisnis/d-6232506/h...   \n",
            "...                                                 ...   \n",
            "1528  https://news.detik.com/pemilu/d-6214919/ini-8-...   \n",
            "1529  https://news.detik.com/pemilu/d-6211759/dokume...   \n",
            "1530  https://finance.detik.com/berita-ekonomi-bisni...   \n",
            "1531  https://www.detik.com/jatim/berita/d-6300148/u...   \n",
            "1532  https://www.detik.com/bali/berita/d-6180068/20...   \n",
            "\n",
            "                                                  judul  \\\n",
            "0     Cara Efisien Pemkab Banyuwangi Kendalikan Hama...   \n",
            "1     Food Estate Jokowi Tambah Banyak, Terbaru Lumb...   \n",
            "2     Mirisnya Nasib Petani Kala RI Berhasil Swasemb...   \n",
            "3     Miris! RI Berhasil Swasembada Beras, tapi Nasi...   \n",
            "4     Hore! Nelayan Indramayu Kini Punya Gudang Beku...   \n",
            "...                                                 ...   \n",
            "1528  Ini 8 Parpol yang Dinyatakan Lengkap Berkas Pe...   \n",
            "1529  Dokumen Daftar Pemilu Belum Lengkap, 3 Parpol ...   \n",
            "1530  Produk Kerajinan RI Mejeng di Jepang, Dilirik ...   \n",
            "1531   Unusa-PENS Gandeng AS Bikin Laboratorium Virtual   \n",
            "1532  200 Lebih Pekerja Indonesia Bakal Dipulangkan ...   \n",
            "\n",
            "                                  penulis                        tanggal  \\\n",
            "0              Ardian Fanani - detikJatim   Senin, 29 Agu 2022 11:37 WIB   \n",
            "1     Shafira Cendra Arini - detikFinance   Senin, 22 Agu 2022 20:45 WIB   \n",
            "2      Herdi Alif Al Hikam - detikFinance   Senin, 15 Agu 2022 19:00 WIB   \n",
            "3      Herdi Alif Al Hikam - detikFinance   Senin, 15 Agu 2022 13:02 WIB   \n",
            "4        Jihaan Khoirunnisaa - detikJabar   Sabtu, 13 Agu 2022 10:18 WIB   \n",
            "...                                   ...                            ...   \n",
            "1528          Karin Nur Secha - detikNews    Rabu, 03 Agu 2022 19:18 WIB   \n",
            "1529          Karin Nur Secha - detikNews  Selasa, 02 Agu 2022 10:53 WIB   \n",
            "1530       Aulia Damayanti - detikFinance    Rabu, 28 Sep 2022 09:31 WIB   \n",
            "1531           Esti Widiyana - detikJatim   Senin, 19 Sep 2022 15:57 WIB   \n",
            "1532            Tim detikNews - detikBali   Jumat, 15 Jul 2022 07:11 WIB   \n",
            "\n",
            "                                                 narasi  relevansi rev_sektor  \\\n",
            "0     Kabupaten Banyuwangi mengendalikan hama tikus ...          1          A   \n",
            "1     Sejak 2020 Presiden Joko Widodo (Jokowi) telah...          1          A   \n",
            "2     Indonesia mampu melakukan swasembada beras. Da...          1          A   \n",
            "3     Indonesia dinilai mampu melakukan swasembada b...          1          A   \n",
            "4     Menteri Kelautan dan Perikanan (Menteri KP RI)...          1          A   \n",
            "...                                                 ...        ...        ...   \n",
            "1528  Komisi Pemilihan Umum (KPU) menyatakan delapan...          1       RSTU   \n",
            "1529  Komisi Pemilihan Umum (KPU) menyeleksi dokumen...          1       RSTU   \n",
            "1530  Bukan rahasia lagi bahwa produk kerajinan buat...          1       RSTU   \n",
            "1531  Konsulat jenderal AS di Surabaya bersama Unive...          1       RSTU   \n",
            "1532  Lebih dari 200 warga negara Indonesia (WNI) ba...          1       RSTU   \n",
            "\n",
            "                                                  frasa  \\\n",
            "0     Banyuwangi menyiapkan 342 rubuha yang akan dis...   \n",
            "1      food estate di Pulau Jawa. Di pulau ini, ada ...   \n",
            "2     Indonesia mampu melakukan swasembada beras. Da...   \n",
            "3     Zulhas memaparkan dalam tiga tahun terakhir In...   \n",
            "4      Indramayu memiliki potensi pengelolaan sumber...   \n",
            "...                                                 ...   \n",
            "1528  Pendaftaran parpol sebagai calon peserta Pemil...   \n",
            "1529  Setelah melakukan pengecekan, KPU RI menyataka...   \n",
            "1530  pameran tersebut juga mendapatkan sambutan dar...   \n",
            "1531  Sementara Platform teknologi dari A.S ini diha...   \n",
            "1532  data WNI yang meninggal dunia di detensi imigr...   \n",
            "\n",
            "                       scope growth  lag time_ref  \\\n",
            "0     banyuwangi, jawa timur      0    0       Q3   \n",
            "1                   Nasional      y    0       Q3   \n",
            "2                   Nasional      y    0       Q3   \n",
            "3                   Nasional      y    0       Q3   \n",
            "4      Indramayu, Jawa Barat      0    0       Q3   \n",
            "...                      ...    ...  ...      ...   \n",
            "1528                nasional      0    0       Q3   \n",
            "1529                nasional      0    0       Q3   \n",
            "1530                nasional      0    0       Q3   \n",
            "1531    Surabaya, jawa timur      0    0       Q3   \n",
            "1532                nasional      C    1       Q2   \n",
            "\n",
            "                                                content  \n",
            "0     Cara Efisien Pemkab Banyuwangi Kendalikan Hama...  \n",
            "1     Food Estate Jokowi Tambah Banyak, Terbaru Lumb...  \n",
            "2     Mirisnya Nasib Petani Kala RI Berhasil Swasemb...  \n",
            "3     Miris! RI Berhasil Swasembada Beras, tapi Nasi...  \n",
            "4     Hore! Nelayan Indramayu Kini Punya Gudang Beku...  \n",
            "...                                                 ...  \n",
            "1528  Ini 8 Parpol yang Dinyatakan Lengkap Berkas Pe...  \n",
            "1529  Dokumen Daftar Pemilu Belum Lengkap, 3 Parpol ...  \n",
            "1530  Produk Kerajinan RI Mejeng di Jepang, Dilirik ...  \n",
            "1531  Unusa-PENS Gandeng AS Bikin Laboratorium Virtu...  \n",
            "1532  200 Lebih Pekerja Indonesia Bakal Dipulangkan ...  \n",
            "\n",
            "[1533 rows x 13 columns]\n"
          ]
        }
      ]
    },
    {
      "cell_type": "code",
      "source": [
        "port_stem = PorterStemmer()"
      ],
      "metadata": {
        "id": "mrJ7tr8ZM-4-"
      },
      "execution_count": 11,
      "outputs": []
    },
    {
      "cell_type": "code",
      "source": [
        "nltk.download('stopwords')\n",
        "# printing the stopwords\n",
        "print(stopwords.words('indonesian'))"
      ],
      "metadata": {
        "colab": {
          "base_uri": "https://localhost:8080/"
        },
        "id": "fXF4D51yNNpU",
        "outputId": "5d31c1bd-b953-4a26-8e5b-363fb78a73fd"
      },
      "execution_count": 12,
      "outputs": [
        {
          "output_type": "stream",
          "name": "stdout",
          "text": [
            "['ada', 'adalah', 'adanya', 'adapun', 'agak', 'agaknya', 'agar', 'akan', 'akankah', 'akhir', 'akhiri', 'akhirnya', 'aku', 'akulah', 'amat', 'amatlah', 'anda', 'andalah', 'antar', 'antara', 'antaranya', 'apa', 'apaan', 'apabila', 'apakah', 'apalagi', 'apatah', 'artinya', 'asal', 'asalkan', 'atas', 'atau', 'ataukah', 'ataupun', 'awal', 'awalnya', 'bagai', 'bagaikan', 'bagaimana', 'bagaimanakah', 'bagaimanapun', 'bagi', 'bagian', 'bahkan', 'bahwa', 'bahwasanya', 'baik', 'bakal', 'bakalan', 'balik', 'banyak', 'bapak', 'baru', 'bawah', 'beberapa', 'begini', 'beginian', 'beginikah', 'beginilah', 'begitu', 'begitukah', 'begitulah', 'begitupun', 'bekerja', 'belakang', 'belakangan', 'belum', 'belumlah', 'benar', 'benarkah', 'benarlah', 'berada', 'berakhir', 'berakhirlah', 'berakhirnya', 'berapa', 'berapakah', 'berapalah', 'berapapun', 'berarti', 'berawal', 'berbagai', 'berdatangan', 'beri', 'berikan', 'berikut', 'berikutnya', 'berjumlah', 'berkali-kali', 'berkata', 'berkehendak', 'berkeinginan', 'berkenaan', 'berlainan', 'berlalu', 'berlangsung', 'berlebihan', 'bermacam', 'bermacam-macam', 'bermaksud', 'bermula', 'bersama', 'bersama-sama', 'bersiap', 'bersiap-siap', 'bertanya', 'bertanya-tanya', 'berturut', 'berturut-turut', 'bertutur', 'berujar', 'berupa', 'besar', 'betul', 'betulkah', 'biasa', 'biasanya', 'bila', 'bilakah', 'bisa', 'bisakah', 'boleh', 'bolehkah', 'bolehlah', 'buat', 'bukan', 'bukankah', 'bukanlah', 'bukannya', 'bulan', 'bung', 'cara', 'caranya', 'cukup', 'cukupkah', 'cukuplah', 'cuma', 'dahulu', 'dalam', 'dan', 'dapat', 'dari', 'daripada', 'datang', 'dekat', 'demi', 'demikian', 'demikianlah', 'dengan', 'depan', 'di', 'dia', 'diakhiri', 'diakhirinya', 'dialah', 'diantara', 'diantaranya', 'diberi', 'diberikan', 'diberikannya', 'dibuat', 'dibuatnya', 'didapat', 'didatangkan', 'digunakan', 'diibaratkan', 'diibaratkannya', 'diingat', 'diingatkan', 'diinginkan', 'dijawab', 'dijelaskan', 'dijelaskannya', 'dikarenakan', 'dikatakan', 'dikatakannya', 'dikerjakan', 'diketahui', 'diketahuinya', 'dikira', 'dilakukan', 'dilalui', 'dilihat', 'dimaksud', 'dimaksudkan', 'dimaksudkannya', 'dimaksudnya', 'diminta', 'dimintai', 'dimisalkan', 'dimulai', 'dimulailah', 'dimulainya', 'dimungkinkan', 'dini', 'dipastikan', 'diperbuat', 'diperbuatnya', 'dipergunakan', 'diperkirakan', 'diperlihatkan', 'diperlukan', 'diperlukannya', 'dipersoalkan', 'dipertanyakan', 'dipunyai', 'diri', 'dirinya', 'disampaikan', 'disebut', 'disebutkan', 'disebutkannya', 'disini', 'disinilah', 'ditambahkan', 'ditandaskan', 'ditanya', 'ditanyai', 'ditanyakan', 'ditegaskan', 'ditujukan', 'ditunjuk', 'ditunjuki', 'ditunjukkan', 'ditunjukkannya', 'ditunjuknya', 'dituturkan', 'dituturkannya', 'diucapkan', 'diucapkannya', 'diungkapkan', 'dong', 'dua', 'dulu', 'empat', 'enggak', 'enggaknya', 'entah', 'entahlah', 'guna', 'gunakan', 'hal', 'hampir', 'hanya', 'hanyalah', 'hari', 'harus', 'haruslah', 'harusnya', 'hendak', 'hendaklah', 'hendaknya', 'hingga', 'ia', 'ialah', 'ibarat', 'ibaratkan', 'ibaratnya', 'ibu', 'ikut', 'ingat', 'ingat-ingat', 'ingin', 'inginkah', 'inginkan', 'ini', 'inikah', 'inilah', 'itu', 'itukah', 'itulah', 'jadi', 'jadilah', 'jadinya', 'jangan', 'jangankan', 'janganlah', 'jauh', 'jawab', 'jawaban', 'jawabnya', 'jelas', 'jelaskan', 'jelaslah', 'jelasnya', 'jika', 'jikalau', 'juga', 'jumlah', 'jumlahnya', 'justru', 'kala', 'kalau', 'kalaulah', 'kalaupun', 'kalian', 'kami', 'kamilah', 'kamu', 'kamulah', 'kan', 'kapan', 'kapankah', 'kapanpun', 'karena', 'karenanya', 'kasus', 'kata', 'katakan', 'katakanlah', 'katanya', 'ke', 'keadaan', 'kebetulan', 'kecil', 'kedua', 'keduanya', 'keinginan', 'kelamaan', 'kelihatan', 'kelihatannya', 'kelima', 'keluar', 'kembali', 'kemudian', 'kemungkinan', 'kemungkinannya', 'kenapa', 'kepada', 'kepadanya', 'kesampaian', 'keseluruhan', 'keseluruhannya', 'keterlaluan', 'ketika', 'khususnya', 'kini', 'kinilah', 'kira', 'kira-kira', 'kiranya', 'kita', 'kitalah', 'kok', 'kurang', 'lagi', 'lagian', 'lah', 'lain', 'lainnya', 'lalu', 'lama', 'lamanya', 'lanjut', 'lanjutnya', 'lebih', 'lewat', 'lima', 'luar', 'macam', 'maka', 'makanya', 'makin', 'malah', 'malahan', 'mampu', 'mampukah', 'mana', 'manakala', 'manalagi', 'masa', 'masalah', 'masalahnya', 'masih', 'masihkah', 'masing', 'masing-masing', 'mau', 'maupun', 'melainkan', 'melakukan', 'melalui', 'melihat', 'melihatnya', 'memang', 'memastikan', 'memberi', 'memberikan', 'membuat', 'memerlukan', 'memihak', 'meminta', 'memintakan', 'memisalkan', 'memperbuat', 'mempergunakan', 'memperkirakan', 'memperlihatkan', 'mempersiapkan', 'mempersoalkan', 'mempertanyakan', 'mempunyai', 'memulai', 'memungkinkan', 'menaiki', 'menambahkan', 'menandaskan', 'menanti', 'menanti-nanti', 'menantikan', 'menanya', 'menanyai', 'menanyakan', 'mendapat', 'mendapatkan', 'mendatang', 'mendatangi', 'mendatangkan', 'menegaskan', 'mengakhiri', 'mengapa', 'mengatakan', 'mengatakannya', 'mengenai', 'mengerjakan', 'mengetahui', 'menggunakan', 'menghendaki', 'mengibaratkan', 'mengibaratkannya', 'mengingat', 'mengingatkan', 'menginginkan', 'mengira', 'mengucapkan', 'mengucapkannya', 'mengungkapkan', 'menjadi', 'menjawab', 'menjelaskan', 'menuju', 'menunjuk', 'menunjuki', 'menunjukkan', 'menunjuknya', 'menurut', 'menuturkan', 'menyampaikan', 'menyangkut', 'menyatakan', 'menyebutkan', 'menyeluruh', 'menyiapkan', 'merasa', 'mereka', 'merekalah', 'merupakan', 'meski', 'meskipun', 'meyakini', 'meyakinkan', 'minta', 'mirip', 'misal', 'misalkan', 'misalnya', 'mula', 'mulai', 'mulailah', 'mulanya', 'mungkin', 'mungkinkah', 'nah', 'naik', 'namun', 'nanti', 'nantinya', 'nyaris', 'nyatanya', 'oleh', 'olehnya', 'pada', 'padahal', 'padanya', 'pak', 'paling', 'panjang', 'pantas', 'para', 'pasti', 'pastilah', 'penting', 'pentingnya', 'per', 'percuma', 'perlu', 'perlukah', 'perlunya', 'pernah', 'persoalan', 'pertama', 'pertama-tama', 'pertanyaan', 'pertanyakan', 'pihak', 'pihaknya', 'pukul', 'pula', 'pun', 'punya', 'rasa', 'rasanya', 'rata', 'rupanya', 'saat', 'saatnya', 'saja', 'sajalah', 'saling', 'sama', 'sama-sama', 'sambil', 'sampai', 'sampai-sampai', 'sampaikan', 'sana', 'sangat', 'sangatlah', 'satu', 'saya', 'sayalah', 'se', 'sebab', 'sebabnya', 'sebagai', 'sebagaimana', 'sebagainya', 'sebagian', 'sebaik', 'sebaik-baiknya', 'sebaiknya', 'sebaliknya', 'sebanyak', 'sebegini', 'sebegitu', 'sebelum', 'sebelumnya', 'sebenarnya', 'seberapa', 'sebesar', 'sebetulnya', 'sebisanya', 'sebuah', 'sebut', 'sebutlah', 'sebutnya', 'secara', 'secukupnya', 'sedang', 'sedangkan', 'sedemikian', 'sedikit', 'sedikitnya', 'seenaknya', 'segala', 'segalanya', 'segera', 'seharusnya', 'sehingga', 'seingat', 'sejak', 'sejauh', 'sejenak', 'sejumlah', 'sekadar', 'sekadarnya', 'sekali', 'sekali-kali', 'sekalian', 'sekaligus', 'sekalipun', 'sekarang', 'sekarang', 'sekecil', 'seketika', 'sekiranya', 'sekitar', 'sekitarnya', 'sekurang-kurangnya', 'sekurangnya', 'sela', 'selain', 'selaku', 'selalu', 'selama', 'selama-lamanya', 'selamanya', 'selanjutnya', 'seluruh', 'seluruhnya', 'semacam', 'semakin', 'semampu', 'semampunya', 'semasa', 'semasih', 'semata', 'semata-mata', 'semaunya', 'sementara', 'semisal', 'semisalnya', 'sempat', 'semua', 'semuanya', 'semula', 'sendiri', 'sendirian', 'sendirinya', 'seolah', 'seolah-olah', 'seorang', 'sepanjang', 'sepantasnya', 'sepantasnyalah', 'seperlunya', 'seperti', 'sepertinya', 'sepihak', 'sering', 'seringnya', 'serta', 'serupa', 'sesaat', 'sesama', 'sesampai', 'sesegera', 'sesekali', 'seseorang', 'sesuatu', 'sesuatunya', 'sesudah', 'sesudahnya', 'setelah', 'setempat', 'setengah', 'seterusnya', 'setiap', 'setiba', 'setibanya', 'setidak-tidaknya', 'setidaknya', 'setinggi', 'seusai', 'sewaktu', 'siap', 'siapa', 'siapakah', 'siapapun', 'sini', 'sinilah', 'soal', 'soalnya', 'suatu', 'sudah', 'sudahkah', 'sudahlah', 'supaya', 'tadi', 'tadinya', 'tahu', 'tahun', 'tak', 'tambah', 'tambahnya', 'tampak', 'tampaknya', 'tandas', 'tandasnya', 'tanpa', 'tanya', 'tanyakan', 'tanyanya', 'tapi', 'tegas', 'tegasnya', 'telah', 'tempat', 'tengah', 'tentang', 'tentu', 'tentulah', 'tentunya', 'tepat', 'terakhir', 'terasa', 'terbanyak', 'terdahulu', 'terdapat', 'terdiri', 'terhadap', 'terhadapnya', 'teringat', 'teringat-ingat', 'terjadi', 'terjadilah', 'terjadinya', 'terkira', 'terlalu', 'terlebih', 'terlihat', 'termasuk', 'ternyata', 'tersampaikan', 'tersebut', 'tersebutlah', 'tertentu', 'tertuju', 'terus', 'terutama', 'tetap', 'tetapi', 'tiap', 'tiba', 'tiba-tiba', 'tidak', 'tidakkah', 'tidaklah', 'tiga', 'tinggi', 'toh', 'tunjuk', 'turut', 'tutur', 'tuturnya', 'ucap', 'ucapnya', 'ujar', 'ujarnya', 'umum', 'umumnya', 'ungkap', 'ungkapnya', 'untuk', 'usah', 'usai', 'waduh', 'wah', 'wahai', 'waktu', 'waktunya', 'walau', 'walaupun', 'wong', 'yaitu', 'yakin', 'yakni', 'yang']\n"
          ]
        },
        {
          "output_type": "stream",
          "name": "stderr",
          "text": [
            "[nltk_data] Downloading package stopwords to /root/nltk_data...\n",
            "[nltk_data]   Unzipping corpora/stopwords.zip.\n"
          ]
        }
      ]
    },
    {
      "cell_type": "code",
      "source": [
        "def stemming(content):\n",
        "  stemmed_content = re.sub('[^a-zA-Z0-9]',' ',content) #exclude the punctuation, cause number still matter in this study\n",
        "  stemmed_content = stemmed_content.lower()\n",
        "  stemmed_content = stemmed_content.split()\n",
        "  stemmed_content = [port_stem.stem(word) for word in stemmed_content if not word in stopwords.words('indonesian')]\n",
        "  stemmed_content = ' '.join(stemmed_content)\n",
        "  return stemmed_content"
      ],
      "metadata": {
        "id": "EBrvi2URNCG3"
      },
      "execution_count": 13,
      "outputs": []
    },
    {
      "cell_type": "code",
      "source": [
        "data['content'] = data['content'].apply(stemming)"
      ],
      "metadata": {
        "id": "_E-jgkmyNGsq"
      },
      "execution_count": 27,
      "outputs": []
    },
    {
      "cell_type": "code",
      "source": [
        "data"
      ],
      "metadata": {
        "colab": {
          "base_uri": "https://localhost:8080/",
          "height": 1000
        },
        "id": "0k77JMa7Njhz",
        "outputId": "76770d85-b128-47de-d75e-1aaae1c48176"
      },
      "execution_count": 28,
      "outputs": [
        {
          "output_type": "execute_result",
          "data": {
            "text/plain": [
              "                                                   link  \\\n",
              "0     https://www.detik.com/jatim/berita/d-6259971/c...   \n",
              "1     https://finance.detik.com/properti/d-6248265/f...   \n",
              "2     https://finance.detik.com/berita-ekonomi-bisni...   \n",
              "3     https://finance.detik.com/berita-ekonomi-bisni...   \n",
              "4     https://www.detik.com/jabar/bisnis/d-6232506/h...   \n",
              "...                                                 ...   \n",
              "1528  https://news.detik.com/pemilu/d-6214919/ini-8-...   \n",
              "1529  https://news.detik.com/pemilu/d-6211759/dokume...   \n",
              "1530  https://finance.detik.com/berita-ekonomi-bisni...   \n",
              "1531  https://www.detik.com/jatim/berita/d-6300148/u...   \n",
              "1532  https://www.detik.com/bali/berita/d-6180068/20...   \n",
              "\n",
              "                                                  judul  \\\n",
              "0     Cara Efisien Pemkab Banyuwangi Kendalikan Hama...   \n",
              "1     Food Estate Jokowi Tambah Banyak, Terbaru Lumb...   \n",
              "2     Mirisnya Nasib Petani Kala RI Berhasil Swasemb...   \n",
              "3     Miris! RI Berhasil Swasembada Beras, tapi Nasi...   \n",
              "4     Hore! Nelayan Indramayu Kini Punya Gudang Beku...   \n",
              "...                                                 ...   \n",
              "1528  Ini 8 Parpol yang Dinyatakan Lengkap Berkas Pe...   \n",
              "1529  Dokumen Daftar Pemilu Belum Lengkap, 3 Parpol ...   \n",
              "1530  Produk Kerajinan RI Mejeng di Jepang, Dilirik ...   \n",
              "1531   Unusa-PENS Gandeng AS Bikin Laboratorium Virtual   \n",
              "1532  200 Lebih Pekerja Indonesia Bakal Dipulangkan ...   \n",
              "\n",
              "                                  penulis                        tanggal  \\\n",
              "0              Ardian Fanani - detikJatim   Senin, 29 Agu 2022 11:37 WIB   \n",
              "1     Shafira Cendra Arini - detikFinance   Senin, 22 Agu 2022 20:45 WIB   \n",
              "2      Herdi Alif Al Hikam - detikFinance   Senin, 15 Agu 2022 19:00 WIB   \n",
              "3      Herdi Alif Al Hikam - detikFinance   Senin, 15 Agu 2022 13:02 WIB   \n",
              "4        Jihaan Khoirunnisaa - detikJabar   Sabtu, 13 Agu 2022 10:18 WIB   \n",
              "...                                   ...                            ...   \n",
              "1528          Karin Nur Secha - detikNews    Rabu, 03 Agu 2022 19:18 WIB   \n",
              "1529          Karin Nur Secha - detikNews  Selasa, 02 Agu 2022 10:53 WIB   \n",
              "1530       Aulia Damayanti - detikFinance    Rabu, 28 Sep 2022 09:31 WIB   \n",
              "1531           Esti Widiyana - detikJatim   Senin, 19 Sep 2022 15:57 WIB   \n",
              "1532            Tim detikNews - detikBali   Jumat, 15 Jul 2022 07:11 WIB   \n",
              "\n",
              "                                                 narasi  relevansi rev_sektor  \\\n",
              "0     Kabupaten Banyuwangi mengendalikan hama tikus ...          1          A   \n",
              "1     Sejak 2020 Presiden Joko Widodo (Jokowi) telah...          1          A   \n",
              "2     Indonesia mampu melakukan swasembada beras. Da...          1          A   \n",
              "3     Indonesia dinilai mampu melakukan swasembada b...          1          A   \n",
              "4     Menteri Kelautan dan Perikanan (Menteri KP RI)...          1          A   \n",
              "...                                                 ...        ...        ...   \n",
              "1528  Komisi Pemilihan Umum (KPU) menyatakan delapan...          1       RSTU   \n",
              "1529  Komisi Pemilihan Umum (KPU) menyeleksi dokumen...          1       RSTU   \n",
              "1530  Bukan rahasia lagi bahwa produk kerajinan buat...          1       RSTU   \n",
              "1531  Konsulat jenderal AS di Surabaya bersama Unive...          1       RSTU   \n",
              "1532  Lebih dari 200 warga negara Indonesia (WNI) ba...          1       RSTU   \n",
              "\n",
              "                                                  frasa  \\\n",
              "0     Banyuwangi menyiapkan 342 rubuha yang akan dis...   \n",
              "1      food estate di Pulau Jawa. Di pulau ini, ada ...   \n",
              "2     Indonesia mampu melakukan swasembada beras. Da...   \n",
              "3     Zulhas memaparkan dalam tiga tahun terakhir In...   \n",
              "4      Indramayu memiliki potensi pengelolaan sumber...   \n",
              "...                                                 ...   \n",
              "1528  Pendaftaran parpol sebagai calon peserta Pemil...   \n",
              "1529  Setelah melakukan pengecekan, KPU RI menyataka...   \n",
              "1530  pameran tersebut juga mendapatkan sambutan dar...   \n",
              "1531  Sementara Platform teknologi dari A.S ini diha...   \n",
              "1532  data WNI yang meninggal dunia di detensi imigr...   \n",
              "\n",
              "                       scope pdb _movement growth  lag time_ref  \\\n",
              "0     banyuwangi, jawa timur            up      0    0       Q3   \n",
              "1                   Nasional            UP      y    0       Q3   \n",
              "2                   Nasional            up      y    0       Q3   \n",
              "3                   Nasional            up      y    0       Q3   \n",
              "4      Indramayu, Jawa Barat            UP      0    0       Q3   \n",
              "...                      ...           ...    ...  ...      ...   \n",
              "1528                nasional            up      0    0       Q3   \n",
              "1529                nasional            up      0    0       Q3   \n",
              "1530                nasional            up      0    0       Q3   \n",
              "1531    Surabaya, jawa timur            up      0    0       Q3   \n",
              "1532                nasional          down      C    1       Q2   \n",
              "\n",
              "                                                content  \n",
              "0     efisien pemkab banyuwangi kendalikan hama tiku...  \n",
              "1     food estat jokowi terbaru lumbung pangan mangg...  \n",
              "2     mirisnya nasib petani ri berhasil swasembada b...  \n",
              "3     miri ri berhasil swasembada bera nasib petani ...  \n",
              "4     hore nelayan indramayu gudang beku berkapasita...  \n",
              "...                                                 ...  \n",
              "1528  8 parpol dinyatakan lengkap berka pendaftaran ...  \n",
              "1529  dokumen daftar pemilu lengkap 3 parpol kpu ten...  \n",
              "1530  produk kerajinan ri mejeng jepang dilirik pebi...  \n",
              "1531  unusa pen gandeng as bikin laboratorium virtua...  \n",
              "1532  200 pekerja indonesia dipulangkan malaysia 200...  \n",
              "\n",
              "[1533 rows x 14 columns]"
            ],
            "text/html": [
              "\n",
              "  <div id=\"df-6d030cc8-161a-4e44-aab5-80f7d390c299\">\n",
              "    <div class=\"colab-df-container\">\n",
              "      <div>\n",
              "<style scoped>\n",
              "    .dataframe tbody tr th:only-of-type {\n",
              "        vertical-align: middle;\n",
              "    }\n",
              "\n",
              "    .dataframe tbody tr th {\n",
              "        vertical-align: top;\n",
              "    }\n",
              "\n",
              "    .dataframe thead th {\n",
              "        text-align: right;\n",
              "    }\n",
              "</style>\n",
              "<table border=\"1\" class=\"dataframe\">\n",
              "  <thead>\n",
              "    <tr style=\"text-align: right;\">\n",
              "      <th></th>\n",
              "      <th>link</th>\n",
              "      <th>judul</th>\n",
              "      <th>penulis</th>\n",
              "      <th>tanggal</th>\n",
              "      <th>narasi</th>\n",
              "      <th>relevansi</th>\n",
              "      <th>rev_sektor</th>\n",
              "      <th>frasa</th>\n",
              "      <th>scope</th>\n",
              "      <th>pdb _movement</th>\n",
              "      <th>growth</th>\n",
              "      <th>lag</th>\n",
              "      <th>time_ref</th>\n",
              "      <th>content</th>\n",
              "    </tr>\n",
              "  </thead>\n",
              "  <tbody>\n",
              "    <tr>\n",
              "      <th>0</th>\n",
              "      <td>https://www.detik.com/jatim/berita/d-6259971/c...</td>\n",
              "      <td>Cara Efisien Pemkab Banyuwangi Kendalikan Hama...</td>\n",
              "      <td>Ardian Fanani - detikJatim</td>\n",
              "      <td>Senin, 29 Agu 2022 11:37 WIB</td>\n",
              "      <td>Kabupaten Banyuwangi mengendalikan hama tikus ...</td>\n",
              "      <td>1</td>\n",
              "      <td>A</td>\n",
              "      <td>Banyuwangi menyiapkan 342 rubuha yang akan dis...</td>\n",
              "      <td>banyuwangi, jawa timur</td>\n",
              "      <td>up</td>\n",
              "      <td>0</td>\n",
              "      <td>0</td>\n",
              "      <td>Q3</td>\n",
              "      <td>efisien pemkab banyuwangi kendalikan hama tiku...</td>\n",
              "    </tr>\n",
              "    <tr>\n",
              "      <th>1</th>\n",
              "      <td>https://finance.detik.com/properti/d-6248265/f...</td>\n",
              "      <td>Food Estate Jokowi Tambah Banyak, Terbaru Lumb...</td>\n",
              "      <td>Shafira Cendra Arini - detikFinance</td>\n",
              "      <td>Senin, 22 Agu 2022 20:45 WIB</td>\n",
              "      <td>Sejak 2020 Presiden Joko Widodo (Jokowi) telah...</td>\n",
              "      <td>1</td>\n",
              "      <td>A</td>\n",
              "      <td>food estate di Pulau Jawa. Di pulau ini, ada ...</td>\n",
              "      <td>Nasional</td>\n",
              "      <td>UP</td>\n",
              "      <td>y</td>\n",
              "      <td>0</td>\n",
              "      <td>Q3</td>\n",
              "      <td>food estat jokowi terbaru lumbung pangan mangg...</td>\n",
              "    </tr>\n",
              "    <tr>\n",
              "      <th>2</th>\n",
              "      <td>https://finance.detik.com/berita-ekonomi-bisni...</td>\n",
              "      <td>Mirisnya Nasib Petani Kala RI Berhasil Swasemb...</td>\n",
              "      <td>Herdi Alif Al Hikam - detikFinance</td>\n",
              "      <td>Senin, 15 Agu 2022 19:00 WIB</td>\n",
              "      <td>Indonesia mampu melakukan swasembada beras. Da...</td>\n",
              "      <td>1</td>\n",
              "      <td>A</td>\n",
              "      <td>Indonesia mampu melakukan swasembada beras. Da...</td>\n",
              "      <td>Nasional</td>\n",
              "      <td>up</td>\n",
              "      <td>y</td>\n",
              "      <td>0</td>\n",
              "      <td>Q3</td>\n",
              "      <td>mirisnya nasib petani ri berhasil swasembada b...</td>\n",
              "    </tr>\n",
              "    <tr>\n",
              "      <th>3</th>\n",
              "      <td>https://finance.detik.com/berita-ekonomi-bisni...</td>\n",
              "      <td>Miris! RI Berhasil Swasembada Beras, tapi Nasi...</td>\n",
              "      <td>Herdi Alif Al Hikam - detikFinance</td>\n",
              "      <td>Senin, 15 Agu 2022 13:02 WIB</td>\n",
              "      <td>Indonesia dinilai mampu melakukan swasembada b...</td>\n",
              "      <td>1</td>\n",
              "      <td>A</td>\n",
              "      <td>Zulhas memaparkan dalam tiga tahun terakhir In...</td>\n",
              "      <td>Nasional</td>\n",
              "      <td>up</td>\n",
              "      <td>y</td>\n",
              "      <td>0</td>\n",
              "      <td>Q3</td>\n",
              "      <td>miri ri berhasil swasembada bera nasib petani ...</td>\n",
              "    </tr>\n",
              "    <tr>\n",
              "      <th>4</th>\n",
              "      <td>https://www.detik.com/jabar/bisnis/d-6232506/h...</td>\n",
              "      <td>Hore! Nelayan Indramayu Kini Punya Gudang Beku...</td>\n",
              "      <td>Jihaan Khoirunnisaa - detikJabar</td>\n",
              "      <td>Sabtu, 13 Agu 2022 10:18 WIB</td>\n",
              "      <td>Menteri Kelautan dan Perikanan (Menteri KP RI)...</td>\n",
              "      <td>1</td>\n",
              "      <td>A</td>\n",
              "      <td>Indramayu memiliki potensi pengelolaan sumber...</td>\n",
              "      <td>Indramayu, Jawa Barat</td>\n",
              "      <td>UP</td>\n",
              "      <td>0</td>\n",
              "      <td>0</td>\n",
              "      <td>Q3</td>\n",
              "      <td>hore nelayan indramayu gudang beku berkapasita...</td>\n",
              "    </tr>\n",
              "    <tr>\n",
              "      <th>...</th>\n",
              "      <td>...</td>\n",
              "      <td>...</td>\n",
              "      <td>...</td>\n",
              "      <td>...</td>\n",
              "      <td>...</td>\n",
              "      <td>...</td>\n",
              "      <td>...</td>\n",
              "      <td>...</td>\n",
              "      <td>...</td>\n",
              "      <td>...</td>\n",
              "      <td>...</td>\n",
              "      <td>...</td>\n",
              "      <td>...</td>\n",
              "      <td>...</td>\n",
              "    </tr>\n",
              "    <tr>\n",
              "      <th>1528</th>\n",
              "      <td>https://news.detik.com/pemilu/d-6214919/ini-8-...</td>\n",
              "      <td>Ini 8 Parpol yang Dinyatakan Lengkap Berkas Pe...</td>\n",
              "      <td>Karin Nur Secha - detikNews</td>\n",
              "      <td>Rabu, 03 Agu 2022 19:18 WIB</td>\n",
              "      <td>Komisi Pemilihan Umum (KPU) menyatakan delapan...</td>\n",
              "      <td>1</td>\n",
              "      <td>RSTU</td>\n",
              "      <td>Pendaftaran parpol sebagai calon peserta Pemil...</td>\n",
              "      <td>nasional</td>\n",
              "      <td>up</td>\n",
              "      <td>0</td>\n",
              "      <td>0</td>\n",
              "      <td>Q3</td>\n",
              "      <td>8 parpol dinyatakan lengkap berka pendaftaran ...</td>\n",
              "    </tr>\n",
              "    <tr>\n",
              "      <th>1529</th>\n",
              "      <td>https://news.detik.com/pemilu/d-6211759/dokume...</td>\n",
              "      <td>Dokumen Daftar Pemilu Belum Lengkap, 3 Parpol ...</td>\n",
              "      <td>Karin Nur Secha - detikNews</td>\n",
              "      <td>Selasa, 02 Agu 2022 10:53 WIB</td>\n",
              "      <td>Komisi Pemilihan Umum (KPU) menyeleksi dokumen...</td>\n",
              "      <td>1</td>\n",
              "      <td>RSTU</td>\n",
              "      <td>Setelah melakukan pengecekan, KPU RI menyataka...</td>\n",
              "      <td>nasional</td>\n",
              "      <td>up</td>\n",
              "      <td>0</td>\n",
              "      <td>0</td>\n",
              "      <td>Q3</td>\n",
              "      <td>dokumen daftar pemilu lengkap 3 parpol kpu ten...</td>\n",
              "    </tr>\n",
              "    <tr>\n",
              "      <th>1530</th>\n",
              "      <td>https://finance.detik.com/berita-ekonomi-bisni...</td>\n",
              "      <td>Produk Kerajinan RI Mejeng di Jepang, Dilirik ...</td>\n",
              "      <td>Aulia Damayanti - detikFinance</td>\n",
              "      <td>Rabu, 28 Sep 2022 09:31 WIB</td>\n",
              "      <td>Bukan rahasia lagi bahwa produk kerajinan buat...</td>\n",
              "      <td>1</td>\n",
              "      <td>RSTU</td>\n",
              "      <td>pameran tersebut juga mendapatkan sambutan dar...</td>\n",
              "      <td>nasional</td>\n",
              "      <td>up</td>\n",
              "      <td>0</td>\n",
              "      <td>0</td>\n",
              "      <td>Q3</td>\n",
              "      <td>produk kerajinan ri mejeng jepang dilirik pebi...</td>\n",
              "    </tr>\n",
              "    <tr>\n",
              "      <th>1531</th>\n",
              "      <td>https://www.detik.com/jatim/berita/d-6300148/u...</td>\n",
              "      <td>Unusa-PENS Gandeng AS Bikin Laboratorium Virtual</td>\n",
              "      <td>Esti Widiyana - detikJatim</td>\n",
              "      <td>Senin, 19 Sep 2022 15:57 WIB</td>\n",
              "      <td>Konsulat jenderal AS di Surabaya bersama Unive...</td>\n",
              "      <td>1</td>\n",
              "      <td>RSTU</td>\n",
              "      <td>Sementara Platform teknologi dari A.S ini diha...</td>\n",
              "      <td>Surabaya, jawa timur</td>\n",
              "      <td>up</td>\n",
              "      <td>0</td>\n",
              "      <td>0</td>\n",
              "      <td>Q3</td>\n",
              "      <td>unusa pen gandeng as bikin laboratorium virtua...</td>\n",
              "    </tr>\n",
              "    <tr>\n",
              "      <th>1532</th>\n",
              "      <td>https://www.detik.com/bali/berita/d-6180068/20...</td>\n",
              "      <td>200 Lebih Pekerja Indonesia Bakal Dipulangkan ...</td>\n",
              "      <td>Tim detikNews - detikBali</td>\n",
              "      <td>Jumat, 15 Jul 2022 07:11 WIB</td>\n",
              "      <td>Lebih dari 200 warga negara Indonesia (WNI) ba...</td>\n",
              "      <td>1</td>\n",
              "      <td>RSTU</td>\n",
              "      <td>data WNI yang meninggal dunia di detensi imigr...</td>\n",
              "      <td>nasional</td>\n",
              "      <td>down</td>\n",
              "      <td>C</td>\n",
              "      <td>1</td>\n",
              "      <td>Q2</td>\n",
              "      <td>200 pekerja indonesia dipulangkan malaysia 200...</td>\n",
              "    </tr>\n",
              "  </tbody>\n",
              "</table>\n",
              "<p>1533 rows × 14 columns</p>\n",
              "</div>\n",
              "      <button class=\"colab-df-convert\" onclick=\"convertToInteractive('df-6d030cc8-161a-4e44-aab5-80f7d390c299')\"\n",
              "              title=\"Convert this dataframe to an interactive table.\"\n",
              "              style=\"display:none;\">\n",
              "        \n",
              "  <svg xmlns=\"http://www.w3.org/2000/svg\" height=\"24px\"viewBox=\"0 0 24 24\"\n",
              "       width=\"24px\">\n",
              "    <path d=\"M0 0h24v24H0V0z\" fill=\"none\"/>\n",
              "    <path d=\"M18.56 5.44l.94 2.06.94-2.06 2.06-.94-2.06-.94-.94-2.06-.94 2.06-2.06.94zm-11 1L8.5 8.5l.94-2.06 2.06-.94-2.06-.94L8.5 2.5l-.94 2.06-2.06.94zm10 10l.94 2.06.94-2.06 2.06-.94-2.06-.94-.94-2.06-.94 2.06-2.06.94z\"/><path d=\"M17.41 7.96l-1.37-1.37c-.4-.4-.92-.59-1.43-.59-.52 0-1.04.2-1.43.59L10.3 9.45l-7.72 7.72c-.78.78-.78 2.05 0 2.83L4 21.41c.39.39.9.59 1.41.59.51 0 1.02-.2 1.41-.59l7.78-7.78 2.81-2.81c.8-.78.8-2.07 0-2.86zM5.41 20L4 18.59l7.72-7.72 1.47 1.35L5.41 20z\"/>\n",
              "  </svg>\n",
              "      </button>\n",
              "      \n",
              "  <style>\n",
              "    .colab-df-container {\n",
              "      display:flex;\n",
              "      flex-wrap:wrap;\n",
              "      gap: 12px;\n",
              "    }\n",
              "\n",
              "    .colab-df-convert {\n",
              "      background-color: #E8F0FE;\n",
              "      border: none;\n",
              "      border-radius: 50%;\n",
              "      cursor: pointer;\n",
              "      display: none;\n",
              "      fill: #1967D2;\n",
              "      height: 32px;\n",
              "      padding: 0 0 0 0;\n",
              "      width: 32px;\n",
              "    }\n",
              "\n",
              "    .colab-df-convert:hover {\n",
              "      background-color: #E2EBFA;\n",
              "      box-shadow: 0px 1px 2px rgba(60, 64, 67, 0.3), 0px 1px 3px 1px rgba(60, 64, 67, 0.15);\n",
              "      fill: #174EA6;\n",
              "    }\n",
              "\n",
              "    [theme=dark] .colab-df-convert {\n",
              "      background-color: #3B4455;\n",
              "      fill: #D2E3FC;\n",
              "    }\n",
              "\n",
              "    [theme=dark] .colab-df-convert:hover {\n",
              "      background-color: #434B5C;\n",
              "      box-shadow: 0px 1px 3px 1px rgba(0, 0, 0, 0.15);\n",
              "      filter: drop-shadow(0px 1px 2px rgba(0, 0, 0, 0.3));\n",
              "      fill: #FFFFFF;\n",
              "    }\n",
              "  </style>\n",
              "\n",
              "      <script>\n",
              "        const buttonEl =\n",
              "          document.querySelector('#df-6d030cc8-161a-4e44-aab5-80f7d390c299 button.colab-df-convert');\n",
              "        buttonEl.style.display =\n",
              "          google.colab.kernel.accessAllowed ? 'block' : 'none';\n",
              "\n",
              "        async function convertToInteractive(key) {\n",
              "          const element = document.querySelector('#df-6d030cc8-161a-4e44-aab5-80f7d390c299');\n",
              "          const dataTable =\n",
              "            await google.colab.kernel.invokeFunction('convertToInteractive',\n",
              "                                                     [key], {});\n",
              "          if (!dataTable) return;\n",
              "\n",
              "          const docLinkHtml = 'Like what you see? Visit the ' +\n",
              "            '<a target=\"_blank\" href=https://colab.research.google.com/notebooks/data_table.ipynb>data table notebook</a>'\n",
              "            + ' to learn more about interactive tables.';\n",
              "          element.innerHTML = '';\n",
              "          dataTable['output_type'] = 'display_data';\n",
              "          await google.colab.output.renderOutput(dataTable, element);\n",
              "          const docLink = document.createElement('div');\n",
              "          docLink.innerHTML = docLinkHtml;\n",
              "          element.appendChild(docLink);\n",
              "        }\n",
              "      </script>\n",
              "    </div>\n",
              "  </div>\n",
              "  "
            ]
          },
          "metadata": {},
          "execution_count": 28
        }
      ]
    },
    {
      "cell_type": "code",
      "source": [
        "content_col = data.drop(['link', 'judul','penulis','tanggal','narasi','relevansi','rev_sektor','frasa','scope','growth','lag','time_ref','pdb _movement'], axis=1)\n",
        "#content_col = content_col.to_frame()\n",
        "content_col = content_col.rename(columns = {0:'contents'})\n",
        "pdb_col = data.drop(['link', 'judul','penulis','tanggal','narasi','relevansi','rev_sektor','frasa','scope','growth','lag','time_ref','content'], axis=1)\n",
        "#pdb_col = pdb_col.to_frame()\n",
        "pdb_col = pdb_col.rename(columns = {0:'pdb_movement'})\n",
        "WorkColumn= pd.concat([content_col, pdb_col], axis=1)\n",
        "print(WorkColumn)"
      ],
      "metadata": {
        "colab": {
          "base_uri": "https://localhost:8080/"
        },
        "id": "EsS0MbwZNtaM",
        "outputId": "c96eab23-f211-44b6-81d1-f51d17484d16"
      },
      "execution_count": 29,
      "outputs": [
        {
          "output_type": "stream",
          "name": "stdout",
          "text": [
            "                                                content pdb _movement\n",
            "0     efisien pemkab banyuwangi kendalikan hama tiku...            up\n",
            "1     food estat jokowi terbaru lumbung pangan mangg...            UP\n",
            "2     mirisnya nasib petani ri berhasil swasembada b...            up\n",
            "3     miri ri berhasil swasembada bera nasib petani ...            up\n",
            "4     hore nelayan indramayu gudang beku berkapasita...            UP\n",
            "...                                                 ...           ...\n",
            "1528  8 parpol dinyatakan lengkap berka pendaftaran ...            up\n",
            "1529  dokumen daftar pemilu lengkap 3 parpol kpu ten...            up\n",
            "1530  produk kerajinan ri mejeng jepang dilirik pebi...            up\n",
            "1531  unusa pen gandeng as bikin laboratorium virtua...            up\n",
            "1532  200 pekerja indonesia dipulangkan malaysia 200...          down\n",
            "\n",
            "[1533 rows x 2 columns]\n"
          ]
        }
      ]
    },
    {
      "cell_type": "code",
      "source": [
        "from google.colab import files\n",
        "WorkColumn.to_csv('WorkColumnPreprocess.csv', encoding = 'utf-8-sig') \n",
        "#files.download('WorkColumnPreprocess.csv')"
      ],
      "metadata": {
        "id": "8KfJAfTMTpLw"
      },
      "execution_count": 30,
      "outputs": []
    },
    {
      "cell_type": "code",
      "source": [
        "X = data['content'].values\n"
      ],
      "metadata": {
        "colab": {
          "base_uri": "https://localhost:8080/"
        },
        "id": "Zdz4U__tNm57",
        "outputId": "93048776-c9de-4797-c2a7-947c02cd8ea2"
      },
      "execution_count": 31,
      "outputs": [
        {
          "output_type": "stream",
          "name": "stdout",
          "text": [
            "['efisien pemkab banyuwangi kendalikan hama tiku rumah burung hantu kabupaten banyuwangi mengendalikan hama tiku pertanian burung hantu tyto alba upaya memfasilitasi 342 rumah burung hantu rubuha disebar wilayah pertanian tingkat populasi tikusnya ramah lingkungan mengurangi penggunaan pestisida mendukung pelestarian burung hantu bermanfaat petani hewan predat alami tiku melindungi tanaman petani bupati banyuwangi ipuk fiestiandani senin 29 8 2022 ipuk meninjau lahan pertanian rumah burung hantu difasilitasi pemkab peninjauan program bupati ngantor desa bunga desa desa kedungasri kecamatan tegaldlimo 24 agustu 2022 plt kepala dina pertanian pangan kabupaten banyuwangi m khoiri burung hantu dipilih predat memiliki kemampuan mendeteksi mangsa jarak hewan memiliki pendengaran tajam terbang menyergap mangsanya cepat suara paparnya ukuran tubuhnya relatif beradaptasi lingkungan cepat berkembang biak sehari khoiri burung hantu memangsa tiku hidup 3 5 ekor jangkauan terbang 12 kilomet burung hantu mendengar suara tiku jarak 500 meter menjadikannya alternatif solusi efektif menekan populasi tiku khoiri sambutan petani program penggunaan burung hantu pengendali tiku biaya tenaga burung hantu lokasi lokasi tiku difasilitasi rumah burung hantu rubuha areal persawahan menetap lokasi butuh rubuha disiapkan ditempati efisien petani berdampak negatif lingkungan khoiri pembangunan rubuha bertujuan transit burung hantu liar diharapkan tinggal burung hantu berkembang biak keberadaan burung hantu dilestarikan program banyuwangi 342 rubuha disebar wilayah tingkat populasi tiku kecamatan tegaldlimo alokasi 27 rubuha kecamatan 60 rubuha tersebar 6 desa program harapkan kelestarian burung hantu terjaga diiringi penurunan hama tiku produksi padi pendapatan petani meningkat khoiri program disambut positif petani salah satunya solikin ketua kelompok tani sri rejeki desa kedungasri tegaldlimo solikin salah penerima rubuha pemkab menyebut petani wilayahnya 2019 burung hantu mengendalikan hama tiku lahannya menurutnya bermanfaat alhamdulillah tambahan pasang rubuha areal hippa semoga tambahan rubuha sawah aman hama tiku banyuwangi 342 rubuha disebar wilayah tingkat populasi tiku kecamatan tegaldlimo alokasi 27 rubuha kecamatan 60 rubuha tersebar 6 desa program harapkan kelestarian burung hantu terjaga diiringi penurunan hama tiku produksi padi pendapatan petani meningkat a'\n",
            " 'food estat jokowi terbaru lumbung pangan mangga gresik 2020 presiden joko widodo jokowi menjalankan program food estat lumbung pangan langkah mewujudkan ketahanan pangan nasion terbaru food estat mangga kabupaten gresik jawa timur program dijalankan wilayah indonesia kalimantan nusa tenggara timur sumatera selatan humbang hasundutan humbaha sumatera utara jawa menteri pertanian mentan syahrul yasin limpo april mengklaim program food estat lokasi kalimantan nusa tenggara timur sumatera utara 100 berhasil detikcom merangkum food estat jokowi food estat kalimantan syahrul yasin limpo kementan menangani 30 000 hektar tanah panen pangan berhasil 200 hektar lahan pertanian gagal 30 gagal 200 hektar gagal 200 hektar 300 hektar tanah 30 000 hektar gagal 1 000 wajar gagal produktivitasnya dilaporkan 2 6 3 2 ton hasil pertanian 4 ton hektar total lahan pertanian program food estat kalimantan ditargetkan 60 000 hektar ha 2024 masuk 30 000 ha masuk bertahap 22 0000 ha food estat humbang hasundutan humbaha pemerintah menyediakan 215 ha tanah pertanian 1 000 dijanjikan syahrul mengakui permasalahan lahan lahan tersedia tarik menarik tanah adat penduduk 215 berhasil total bawang putih kentang sisanya 700 ha menunggu klarifikasi food estat wonosobo temanggung 300 ha food estat jokowi cek halaman ketiga food estat ntt lahan tersedia 5 000 ha 2 000 ha padi 3 000 ha jagung syahrul 400 500 ha hasil jagung kali air utama mengejar 2 kali tanam musim rendengannya dipercepat wilayah food estat diklaim berhasil 100 kementan berencana mencoba food estat wilayah beli ntt orang ntt batu tanah alhamdulillah 2 kali panen 153 ton 50 hektar pemasukan rp 400 juta 50 hektar dikembangkan 10rb hektar keempat kawasan sumatera selatan pemerintah pusat 278 483 ha lahan pelaksanaan food estat sumatera selatan komodita padi jagung salah satunya berlokasi kabupaten ogan komer ilir oki dikutip salah upaya daerah mempertahankan area tanam sawah irigasi lebak pasang surut tadah hujan lua mencapai 150 000 ha food estat pulau jawa pulau komodita dikembangkan komodita hortikultura bawang merah temanggung cabai merah wonosobo terbaru food estat mangga kabupaten gresik peluncuran program ditandai penanaman bibit mangga lua lahan 1 000 hektar ha kecamatan kabupaten gresik dihadiri presiden joko widodo senin 22 8 2022 harapkan food estat milik rakyat milik swasta terintegrasi embung dibangun embungnya food estat nya masyarakat swasta bergerak produksi ditanam berproduksi berbuah diekspor keperluan domestik jokowi disiarkan virtual youtub sekretariat presiden senin 22 8 2022 jokowi hasil penanaman mangga diharapkan memenuhi kebutuhan domestik ekspor negeri kabupaten gresik jokowi food estat daerah daerah memiliki kondisi lahan margin cocok mangga food estat pulau jawa pulau komodita dikembangkan komodita hortikultura bawang merah temanggung cabai merah wonosobo terbaru food estat mangga kabupaten gresik peluncuran program ditandai penanaman bibit mangga lua lahan 1 000 hektar ha kecamatan kabupaten gresik dihadiri presiden joko widodo senin 22 8 2022 harapkan food estat milik rakyat milik swasta terintegrasi embung dibangun embungnya food estat nya masyarakat swasta bergerak produksi ditanam berproduksi berbuah diekspor keperluan domestik jokowi disiarkan virtual youtub sekretariat presiden senin 22 8 2022 jokowi hasil penanaman mangga diharapkan memenuhi kebutuhan domestik ekspor negeri kabupaten gresik jokowi food estat daerah daerah memiliki kondisi lahan margin cocok mangga a'\n",
            " 'mirisnya nasib petani ri berhasil swasembada bera indonesia swasembada bera impor bera sisi produksi bera negeri mengalami surplu memenuhi kebutuhan catatan mencengangkan melulu memuaskan menteri perdagangan zulkifli hasan zulha kondisi petani indonesia miri samp prestasi swasembada berhasil direngkuh indonesia petani indonesia gari kemiskinan diungkap zulha memaparkan gagasan visi misi koalisi indonesia bersatu acara menyampaikannya gagasan ketua partai amanat nasion pan zulha memaparkan indonesia impor bera produksi bera mencapai 31 juta ton konsumsi 28 ton indonesia diganjar penghargaan bergengsi intern rice research institut irri menggembirakan sisi selamat presiden penghargaan internasion kembangkan varieta padi unggul swasembada bera zulha acara penyampaian visi misi disiarkan virtual channel youtub pan jatim dikutip senin 15 8 2022 nasib petani pangan memprihatinkan kondisi miri petani zulha lua lahan persawahan petani menyusut penggunaan pertanian menurutnya kepemilikan lahan pertanian berdasarkan survei badan pusat statistik bp rumah tangga tani 0 66 hektar 0 4 hektar keluarga petani melanjutkan mengacu angka produktivita gabah kere panen gkp 5 2 ton hektar harga pembelian pemerintah hpp gabah rp 4 400 kilogram biaya produksi rp 12 5 juta hektar keuntungan tani hektar rp 10 38 juta dirinci musim tanam indonesia keuntungan tani rp 5 2 juta hektar musim rp 1 3 juta rumah tangga tani pemilikan 0 66 hektar rumah tangga tani berpenghasilan bersih rp 860 ribu keluarga tani berisi 5 orang pendapatan bersih anggota tani rp 172 ribu papar zulha mengacu standar bp menggolongkan kategori miskin penduduk berpenghasilan rp 474 ribu petani indonesia gari kemiskinan alangkah memprihatinkan nasib petani zulha rincian nilai tukar petani ntp halaman senada zulha bp melaporkan nilai tukar petani ntp juli 2022 104 25 nilai turun 1 61 diband nilai tukar petani rasio indek harga diterima petani indek harga dibayar petani dinyatakan persentas nilai tukar petani salah indik menentukan tingkat kesejahteraan petani penurunan ntp indek harga diterima petani it turun 1 04 indek harga dibayar petani ib mengalami peningkatan 0 58 indek harga diterima petani turun 1 04 menurunnya harga kelapa sawit jagung karet kelapa indek dibayar petani mengalami peningkatan 0 58 disebabkan kenaikan komodita bawang merah cabai merah cabai rawit rokok kretek filter kepala bp margo yuwono konferensi per virtual senin 1 8 2022 subsektor ntp mengalami penurunan beras tanaman perkebunan rakyat ntpr juli 2022 turun 6 63 indek harga diterima petani turun 6 06 indek harga dibayar petani 0 61 sisi subsektor holtikultura mengalami peningkatan juli 2022 4 91 kenaikan indek harga diterima petani meningkat 5 48 kenaikan harga dibayar petani 0 55 nilai tukar usaha petani ntup juli 2022 105 47 turun 1 34 diband indek harga diterima petani turun 1 04 indek biaya produksi tambahan barang modal 0 30 zulha pan menawarkan solusi memperbaiki nasib petani menaikkan harga hpp gabah kere mempercepat diversifikasi usaha tani pan menawarkan solusi memperbaiki nasib petani menaikkan hpp gabah kere petani rp 4 400 kilogram rp 8 800 kilogram zulha percepatan diversifikasi usaha tani memanfaatkan lahan kebun mangkrak produktif komodita memiliki pemb alia offtak potensi ekspor menanam komodita tanaman herbal bahan baku obat menurutnya disiapkan bumn farmasi petani diajak menanam buah buahan tropi ekspor salah sarankan durian pasar thailand durian indonesia informasi thailand impor durian us 3 miliar rp 4 5 triliun komodita durian pungka zulha indonesia swasembada bera impor bera sisi produksi bera negeri mengalami surplu memenuhi kebutuhan a'\n",
            " ...\n",
            " 'produk kerajinan ri mejeng jepang dilirik pebisni malaysia uruguay rahasia produk kerajinan buatan indonesia laku pasar internasion terbaru produk ukmm kerajinan indonesia mencuri perhatian pameran jepang founder homliv salah produsen kerajinan kayu indonesia yudiana lyn produk besutannya digemari orang pebisni pameran osaka intern lifestyl show tanggal 14 16 septemb diselenggarakan gedung intex osaka jepang pameran ifex produknya menarik perhatian pengunjung negara malaysia australia india uruguay morocco pameran osaka il dikhususkan penetrasi market negeri matahari terbit homliv bersyukur berterimakasih kemendag program ase 2 0 ekspor memilih homliv hadir pameran lifestyl osaka papar yudiana keterangannya rabu 28 9 2022 yudiana memaparkan pameran sambutan diana emilla sutikno konsulat jender perwakilan indonesia osaka kepala indonesia trade promot centr osaka dicki farab acara dicki farab langsung calon partner bisni potensi perwakilan merek perusahaannya berdiri 50 jepang pertemuan membuahkan perbincangan bisni perusahaan homliv perusahaan jepang yudiana menargetkan pasar internasion homliv penetrasi pasar lokal tersebar 300 outlet indonesia prose pembenahan memaksimalkan kegiatan produksi permintaan lokal internasion penuhi yudiana oktob homliv hadir trade expo indonesia diselenggarakan tanggal 19 23 oktob bertempat convent center ice bsd ya hadir tei harapan dipertemukan b2b custom yudiana pameran sambutan diana emilla sutikno konsulat jender perwakilan indonesia osaka kepala indonesia trade promot centr osaka dicki farab acara dicki farab langsung calon partner bisni potensi perwakilan merek perusahaannya berdiri 50 jepang pertemuan membuahkan perbincangan bisni perusahaan homliv perusahaan jepang yudiana menargetkan pasar internasion homliv penetrasi pasar lokal tersebar 300 outlet indonesia prose pembenahan memaksimalkan kegiatan produksi permintaan lokal internasion penuhi yudiana oktob homliv hadir trade expo indonesia diselenggarakan tanggal 19 23 oktob bertempat convent center ice bsd rstu'\n",
            " 'unusa pen gandeng as bikin laboratorium virtual konsulat jender as surabaya universita nahdlatul ulama surabaya unusa politeknik elektronika negeri surabaya pen kerja aplikasi prakarsa laboratorium teknolog vr ar teknolog vr diperuntukkan pembelajaran siswa sekolah menengah sma indonesia aplikasi multi platform siswa sekolah menengah indonesia mensimulasikan eksperimen laboratorium langsung perangkat virtual realiti vr aplikasi browser web lure dare teknolog augment realiti ar platform dihadirkan kemudahan aks pengguna belajar topik sain teknolog teknik seni matematika steam rektor unusa achmad jazidi teknolog pembelajaran onlin disajikan nyata siswa era pandemi dunia pendidikan berubah offlin onlin dituntut beradaptasi cepat teknolog siswa hadir nyata pembelajaran pembelajaran berhubungan lab jazidi senin 19 9 2022 mencontohkan pembelajaran fisika elektronik bisanya lab beralih virtual teknolog vr pengukuran gaya pelajaran virtual memanfaatkan teknolog kegiatan praktek virtual realiti nyata kerja berkontribusi menyediakan modul modul pembelajarannya pen sistem teknolog kerjakan siswa sma indonesia didistribusikan grati menurutnya program menghapu gap pendidikan indonesia sekolah memiliki teknolog modul pembelajaran platform teknolog a s diharapkan membangun generasi peneru wirausahawan suks berjiwa sosial indonesia amerika serikat berkomitmen berinvestasi pendidikan teknolog indonesia wakil duta a s michael klein rabu 14 9 2022 prakarsa lab didanai dana hibah myamerica surabaya ma pusat informasi berlokasi konsulat a s surabaya yayasan laniuzen inovasi indonesia didirikan m ali fikri alumni program pertukaran departemen negeri a s 2019 platform teknolog a s diharapkan membangun generasi peneru wirausahawan suks berjiwa sosial indonesia amerika serikat berkomitmen berinvestasi pendidikan teknolog indonesia wakil duta a s michael klein rabu 14 9 2022 prakarsa lab didanai dana hibah myamerica surabaya ma pusat informasi berlokasi konsulat a s surabaya yayasan laniuzen inovasi indonesia didirikan m ali fikri alumni program pertukaran departemen negeri a s 2019 rstu'\n",
            " '200 pekerja indonesia dipulangkan malaysia 200 warga negara indonesia wni dipulangkan malaysia pemulangan menyusul laporan pekerja indonesia meningg dunia negeri jiran kementerian negeri kemlu ri menyebut wni detensi imigrasi wilayah sabah malaysia informasi terima konsulat ri tawau prose pemulangan 200 warga negara detensi sabah wilayah tawau nunukan insya allah lakukan direktur perlindungan wni bhi kementerian negeri judha nugraha dikutip detiknew jumat 15 7 2022 rencana pemulangan wni berdasarkan hasil pertemuan konjen ri kota kinabalu konsul ri tawau pengarah imigresen wilayah sabah malaysia konjen ri mencatat wni melebihi kapasita mencatat detensi malaysia mengalami overcrowd percepatan pemulangan salah solusi judha terungkap data wni meningg dunia detensi imigrasi sabah 2021 18 orang period januari juni 2022 tujuh orang koalisi buruh migran berdaulat kbmb melaporkan wni meningg detensi imigrasi malaysia diduga mengalami penganiayaan deportan wni diduga menerima bentuk hukuman manusiawi penyiksaan data data detail pelajari pengacara tawau mempelajari sisi legal judha indonesia menghentikan pengiriman tenaga kerja pekerja migran pmi malaysia ribuan orang direkrut sektor perkebunan langkah buntut pelanggaran kesepakatan perekrutan pekerja diteken negara dilansir channel news asia rabu 13 7 2022 penghentian pengiriman pmi pukulan berat malaysia produsen minyak sawit terbesar dunia mata rantai utama rantai pasokan global penghentian malaysia terancam kekurangan 1 2 juta pekerja menggagalkan pemulihan ekonominya data wni meningg dunia detensi imigrasi sabah 2021 18 orang period januari juni 2022 tujuh orang koalisi buruh migran berdaulat kbmb melaporkan wni meningg detensi imigrasi malaysia diduga mengalami penganiayaan deportan wni diduga menerima bentuk hukuman manusiawi penyiksaan data data detail pelajari pengacara tawau mempelajari sisi legal judha indonesia menghentikan pengiriman tenaga kerja pekerja migran pmi malaysia ribuan orang direkrut sektor perkebunan langkah buntut pelanggaran kesepakatan perekrutan pekerja diteken negara rstu']\n"
          ]
        }
      ]
    },
    {
      "cell_type": "code",
      "source": [
        "print(X)"
      ],
      "metadata": {
        "colab": {
          "base_uri": "https://localhost:8080/"
        },
        "id": "TrDn5qlk80mQ",
        "outputId": "5eb03b1e-3fd6-439d-e383-151e21ae799d"
      },
      "execution_count": 68,
      "outputs": [
        {
          "output_type": "stream",
          "name": "stdout",
          "text": [
            "['efisien pemkab banyuwangi kendalikan hama tiku rumah burung hantu kabupaten banyuwangi mengendalikan hama tiku pertanian burung hantu tyto alba upaya memfasilitasi 342 rumah burung hantu rubuha disebar wilayah pertanian tingkat populasi tikusnya ramah lingkungan mengurangi penggunaan pestisida mendukung pelestarian burung hantu bermanfaat petani hewan predat alami tiku melindungi tanaman petani bupati banyuwangi ipuk fiestiandani senin 29 8 2022 ipuk meninjau lahan pertanian rumah burung hantu difasilitasi pemkab peninjauan program bupati ngantor desa bunga desa desa kedungasri kecamatan tegaldlimo 24 agustu 2022 plt kepala dina pertanian pangan kabupaten banyuwangi m khoiri burung hantu dipilih predat memiliki kemampuan mendeteksi mangsa jarak hewan memiliki pendengaran tajam terbang menyergap mangsanya cepat suara paparnya ukuran tubuhnya relatif beradaptasi lingkungan cepat berkembang biak sehari khoiri burung hantu memangsa tiku hidup 3 5 ekor jangkauan terbang 12 kilomet burung hantu mendengar suara tiku jarak 500 meter menjadikannya alternatif solusi efektif menekan populasi tiku khoiri sambutan petani program penggunaan burung hantu pengendali tiku biaya tenaga burung hantu lokasi lokasi tiku difasilitasi rumah burung hantu rubuha areal persawahan menetap lokasi butuh rubuha disiapkan ditempati efisien petani berdampak negatif lingkungan khoiri pembangunan rubuha bertujuan transit burung hantu liar diharapkan tinggal burung hantu berkembang biak keberadaan burung hantu dilestarikan program banyuwangi 342 rubuha disebar wilayah tingkat populasi tiku kecamatan tegaldlimo alokasi 27 rubuha kecamatan 60 rubuha tersebar 6 desa program harapkan kelestarian burung hantu terjaga diiringi penurunan hama tiku produksi padi pendapatan petani meningkat khoiri program disambut positif petani salah satunya solikin ketua kelompok tani sri rejeki desa kedungasri tegaldlimo solikin salah penerima rubuha pemkab menyebut petani wilayahnya 2019 burung hantu mengendalikan hama tiku lahannya menurutnya bermanfaat alhamdulillah tambahan pasang rubuha areal hippa semoga tambahan rubuha sawah aman hama tiku banyuwangi 342 rubuha disebar wilayah tingkat populasi tiku kecamatan tegaldlimo alokasi 27 rubuha kecamatan 60 rubuha tersebar 6 desa program harapkan kelestarian burung hantu terjaga diiringi penurunan hama tiku produksi padi pendapatan petani meningkat a'\n",
            " 'food estat jokowi terbaru lumbung pangan mangga gresik 2020 presiden joko widodo jokowi menjalankan program food estat lumbung pangan langkah mewujudkan ketahanan pangan nasion terbaru food estat mangga kabupaten gresik jawa timur program dijalankan wilayah indonesia kalimantan nusa tenggara timur sumatera selatan humbang hasundutan humbaha sumatera utara jawa menteri pertanian mentan syahrul yasin limpo april mengklaim program food estat lokasi kalimantan nusa tenggara timur sumatera utara 100 berhasil detikcom merangkum food estat jokowi food estat kalimantan syahrul yasin limpo kementan menangani 30 000 hektar tanah panen pangan berhasil 200 hektar lahan pertanian gagal 30 gagal 200 hektar gagal 200 hektar 300 hektar tanah 30 000 hektar gagal 1 000 wajar gagal produktivitasnya dilaporkan 2 6 3 2 ton hasil pertanian 4 ton hektar total lahan pertanian program food estat kalimantan ditargetkan 60 000 hektar ha 2024 masuk 30 000 ha masuk bertahap 22 0000 ha food estat humbang hasundutan humbaha pemerintah menyediakan 215 ha tanah pertanian 1 000 dijanjikan syahrul mengakui permasalahan lahan lahan tersedia tarik menarik tanah adat penduduk 215 berhasil total bawang putih kentang sisanya 700 ha menunggu klarifikasi food estat wonosobo temanggung 300 ha food estat jokowi cek halaman ketiga food estat ntt lahan tersedia 5 000 ha 2 000 ha padi 3 000 ha jagung syahrul 400 500 ha hasil jagung kali air utama mengejar 2 kali tanam musim rendengannya dipercepat wilayah food estat diklaim berhasil 100 kementan berencana mencoba food estat wilayah beli ntt orang ntt batu tanah alhamdulillah 2 kali panen 153 ton 50 hektar pemasukan rp 400 juta 50 hektar dikembangkan 10rb hektar keempat kawasan sumatera selatan pemerintah pusat 278 483 ha lahan pelaksanaan food estat sumatera selatan komodita padi jagung salah satunya berlokasi kabupaten ogan komer ilir oki dikutip salah upaya daerah mempertahankan area tanam sawah irigasi lebak pasang surut tadah hujan lua mencapai 150 000 ha food estat pulau jawa pulau komodita dikembangkan komodita hortikultura bawang merah temanggung cabai merah wonosobo terbaru food estat mangga kabupaten gresik peluncuran program ditandai penanaman bibit mangga lua lahan 1 000 hektar ha kecamatan kabupaten gresik dihadiri presiden joko widodo senin 22 8 2022 harapkan food estat milik rakyat milik swasta terintegrasi embung dibangun embungnya food estat nya masyarakat swasta bergerak produksi ditanam berproduksi berbuah diekspor keperluan domestik jokowi disiarkan virtual youtub sekretariat presiden senin 22 8 2022 jokowi hasil penanaman mangga diharapkan memenuhi kebutuhan domestik ekspor negeri kabupaten gresik jokowi food estat daerah daerah memiliki kondisi lahan margin cocok mangga food estat pulau jawa pulau komodita dikembangkan komodita hortikultura bawang merah temanggung cabai merah wonosobo terbaru food estat mangga kabupaten gresik peluncuran program ditandai penanaman bibit mangga lua lahan 1 000 hektar ha kecamatan kabupaten gresik dihadiri presiden joko widodo senin 22 8 2022 harapkan food estat milik rakyat milik swasta terintegrasi embung dibangun embungnya food estat nya masyarakat swasta bergerak produksi ditanam berproduksi berbuah diekspor keperluan domestik jokowi disiarkan virtual youtub sekretariat presiden senin 22 8 2022 jokowi hasil penanaman mangga diharapkan memenuhi kebutuhan domestik ekspor negeri kabupaten gresik jokowi food estat daerah daerah memiliki kondisi lahan margin cocok mangga a'\n",
            " 'mirisnya nasib petani ri berhasil swasembada bera indonesia swasembada bera impor bera sisi produksi bera negeri mengalami surplu memenuhi kebutuhan catatan mencengangkan melulu memuaskan menteri perdagangan zulkifli hasan zulha kondisi petani indonesia miri samp prestasi swasembada berhasil direngkuh indonesia petani indonesia gari kemiskinan diungkap zulha memaparkan gagasan visi misi koalisi indonesia bersatu acara menyampaikannya gagasan ketua partai amanat nasion pan zulha memaparkan indonesia impor bera produksi bera mencapai 31 juta ton konsumsi 28 ton indonesia diganjar penghargaan bergengsi intern rice research institut irri menggembirakan sisi selamat presiden penghargaan internasion kembangkan varieta padi unggul swasembada bera zulha acara penyampaian visi misi disiarkan virtual channel youtub pan jatim dikutip senin 15 8 2022 nasib petani pangan memprihatinkan kondisi miri petani zulha lua lahan persawahan petani menyusut penggunaan pertanian menurutnya kepemilikan lahan pertanian berdasarkan survei badan pusat statistik bp rumah tangga tani 0 66 hektar 0 4 hektar keluarga petani melanjutkan mengacu angka produktivita gabah kere panen gkp 5 2 ton hektar harga pembelian pemerintah hpp gabah rp 4 400 kilogram biaya produksi rp 12 5 juta hektar keuntungan tani hektar rp 10 38 juta dirinci musim tanam indonesia keuntungan tani rp 5 2 juta hektar musim rp 1 3 juta rumah tangga tani pemilikan 0 66 hektar rumah tangga tani berpenghasilan bersih rp 860 ribu keluarga tani berisi 5 orang pendapatan bersih anggota tani rp 172 ribu papar zulha mengacu standar bp menggolongkan kategori miskin penduduk berpenghasilan rp 474 ribu petani indonesia gari kemiskinan alangkah memprihatinkan nasib petani zulha rincian nilai tukar petani ntp halaman senada zulha bp melaporkan nilai tukar petani ntp juli 2022 104 25 nilai turun 1 61 diband nilai tukar petani rasio indek harga diterima petani indek harga dibayar petani dinyatakan persentas nilai tukar petani salah indik menentukan tingkat kesejahteraan petani penurunan ntp indek harga diterima petani it turun 1 04 indek harga dibayar petani ib mengalami peningkatan 0 58 indek harga diterima petani turun 1 04 menurunnya harga kelapa sawit jagung karet kelapa indek dibayar petani mengalami peningkatan 0 58 disebabkan kenaikan komodita bawang merah cabai merah cabai rawit rokok kretek filter kepala bp margo yuwono konferensi per virtual senin 1 8 2022 subsektor ntp mengalami penurunan beras tanaman perkebunan rakyat ntpr juli 2022 turun 6 63 indek harga diterima petani turun 6 06 indek harga dibayar petani 0 61 sisi subsektor holtikultura mengalami peningkatan juli 2022 4 91 kenaikan indek harga diterima petani meningkat 5 48 kenaikan harga dibayar petani 0 55 nilai tukar usaha petani ntup juli 2022 105 47 turun 1 34 diband indek harga diterima petani turun 1 04 indek biaya produksi tambahan barang modal 0 30 zulha pan menawarkan solusi memperbaiki nasib petani menaikkan harga hpp gabah kere mempercepat diversifikasi usaha tani pan menawarkan solusi memperbaiki nasib petani menaikkan hpp gabah kere petani rp 4 400 kilogram rp 8 800 kilogram zulha percepatan diversifikasi usaha tani memanfaatkan lahan kebun mangkrak produktif komodita memiliki pemb alia offtak potensi ekspor menanam komodita tanaman herbal bahan baku obat menurutnya disiapkan bumn farmasi petani diajak menanam buah buahan tropi ekspor salah sarankan durian pasar thailand durian indonesia informasi thailand impor durian us 3 miliar rp 4 5 triliun komodita durian pungka zulha indonesia swasembada bera impor bera sisi produksi bera negeri mengalami surplu memenuhi kebutuhan a'\n",
            " ...\n",
            " 'produk kerajinan ri mejeng jepang dilirik pebisni malaysia uruguay rahasia produk kerajinan buatan indonesia laku pasar internasion terbaru produk ukmm kerajinan indonesia mencuri perhatian pameran jepang founder homliv salah produsen kerajinan kayu indonesia yudiana lyn produk besutannya digemari orang pebisni pameran osaka intern lifestyl show tanggal 14 16 septemb diselenggarakan gedung intex osaka jepang pameran ifex produknya menarik perhatian pengunjung negara malaysia australia india uruguay morocco pameran osaka il dikhususkan penetrasi market negeri matahari terbit homliv bersyukur berterimakasih kemendag program ase 2 0 ekspor memilih homliv hadir pameran lifestyl osaka papar yudiana keterangannya rabu 28 9 2022 yudiana memaparkan pameran sambutan diana emilla sutikno konsulat jender perwakilan indonesia osaka kepala indonesia trade promot centr osaka dicki farab acara dicki farab langsung calon partner bisni potensi perwakilan merek perusahaannya berdiri 50 jepang pertemuan membuahkan perbincangan bisni perusahaan homliv perusahaan jepang yudiana menargetkan pasar internasion homliv penetrasi pasar lokal tersebar 300 outlet indonesia prose pembenahan memaksimalkan kegiatan produksi permintaan lokal internasion penuhi yudiana oktob homliv hadir trade expo indonesia diselenggarakan tanggal 19 23 oktob bertempat convent center ice bsd ya hadir tei harapan dipertemukan b2b custom yudiana pameran sambutan diana emilla sutikno konsulat jender perwakilan indonesia osaka kepala indonesia trade promot centr osaka dicki farab acara dicki farab langsung calon partner bisni potensi perwakilan merek perusahaannya berdiri 50 jepang pertemuan membuahkan perbincangan bisni perusahaan homliv perusahaan jepang yudiana menargetkan pasar internasion homliv penetrasi pasar lokal tersebar 300 outlet indonesia prose pembenahan memaksimalkan kegiatan produksi permintaan lokal internasion penuhi yudiana oktob homliv hadir trade expo indonesia diselenggarakan tanggal 19 23 oktob bertempat convent center ice bsd rstu'\n",
            " 'unusa pen gandeng as bikin laboratorium virtual konsulat jender as surabaya universita nahdlatul ulama surabaya unusa politeknik elektronika negeri surabaya pen kerja aplikasi prakarsa laboratorium teknolog vr ar teknolog vr diperuntukkan pembelajaran siswa sekolah menengah sma indonesia aplikasi multi platform siswa sekolah menengah indonesia mensimulasikan eksperimen laboratorium langsung perangkat virtual realiti vr aplikasi browser web lure dare teknolog augment realiti ar platform dihadirkan kemudahan aks pengguna belajar topik sain teknolog teknik seni matematika steam rektor unusa achmad jazidi teknolog pembelajaran onlin disajikan nyata siswa era pandemi dunia pendidikan berubah offlin onlin dituntut beradaptasi cepat teknolog siswa hadir nyata pembelajaran pembelajaran berhubungan lab jazidi senin 19 9 2022 mencontohkan pembelajaran fisika elektronik bisanya lab beralih virtual teknolog vr pengukuran gaya pelajaran virtual memanfaatkan teknolog kegiatan praktek virtual realiti nyata kerja berkontribusi menyediakan modul modul pembelajarannya pen sistem teknolog kerjakan siswa sma indonesia didistribusikan grati menurutnya program menghapu gap pendidikan indonesia sekolah memiliki teknolog modul pembelajaran platform teknolog a s diharapkan membangun generasi peneru wirausahawan suks berjiwa sosial indonesia amerika serikat berkomitmen berinvestasi pendidikan teknolog indonesia wakil duta a s michael klein rabu 14 9 2022 prakarsa lab didanai dana hibah myamerica surabaya ma pusat informasi berlokasi konsulat a s surabaya yayasan laniuzen inovasi indonesia didirikan m ali fikri alumni program pertukaran departemen negeri a s 2019 platform teknolog a s diharapkan membangun generasi peneru wirausahawan suks berjiwa sosial indonesia amerika serikat berkomitmen berinvestasi pendidikan teknolog indonesia wakil duta a s michael klein rabu 14 9 2022 prakarsa lab didanai dana hibah myamerica surabaya ma pusat informasi berlokasi konsulat a s surabaya yayasan laniuzen inovasi indonesia didirikan m ali fikri alumni program pertukaran departemen negeri a s 2019 rstu'\n",
            " '200 pekerja indonesia dipulangkan malaysia 200 warga negara indonesia wni dipulangkan malaysia pemulangan menyusul laporan pekerja indonesia meningg dunia negeri jiran kementerian negeri kemlu ri menyebut wni detensi imigrasi wilayah sabah malaysia informasi terima konsulat ri tawau prose pemulangan 200 warga negara detensi sabah wilayah tawau nunukan insya allah lakukan direktur perlindungan wni bhi kementerian negeri judha nugraha dikutip detiknew jumat 15 7 2022 rencana pemulangan wni berdasarkan hasil pertemuan konjen ri kota kinabalu konsul ri tawau pengarah imigresen wilayah sabah malaysia konjen ri mencatat wni melebihi kapasita mencatat detensi malaysia mengalami overcrowd percepatan pemulangan salah solusi judha terungkap data wni meningg dunia detensi imigrasi sabah 2021 18 orang period januari juni 2022 tujuh orang koalisi buruh migran berdaulat kbmb melaporkan wni meningg detensi imigrasi malaysia diduga mengalami penganiayaan deportan wni diduga menerima bentuk hukuman manusiawi penyiksaan data data detail pelajari pengacara tawau mempelajari sisi legal judha indonesia menghentikan pengiriman tenaga kerja pekerja migran pmi malaysia ribuan orang direkrut sektor perkebunan langkah buntut pelanggaran kesepakatan perekrutan pekerja diteken negara dilansir channel news asia rabu 13 7 2022 penghentian pengiriman pmi pukulan berat malaysia produsen minyak sawit terbesar dunia mata rantai utama rantai pasokan global penghentian malaysia terancam kekurangan 1 2 juta pekerja menggagalkan pemulihan ekonominya data wni meningg dunia detensi imigrasi sabah 2021 18 orang period januari juni 2022 tujuh orang koalisi buruh migran berdaulat kbmb melaporkan wni meningg detensi imigrasi malaysia diduga mengalami penganiayaan deportan wni diduga menerima bentuk hukuman manusiawi penyiksaan data data detail pelajari pengacara tawau mempelajari sisi legal judha indonesia menghentikan pengiriman tenaga kerja pekerja migran pmi malaysia ribuan orang direkrut sektor perkebunan langkah buntut pelanggaran kesepakatan perekrutan pekerja diteken negara rstu']\n"
          ]
        }
      ]
    },
    {
      "cell_type": "code",
      "source": [
        "data['pdb _movement']=data['pdb _movement'].str.lower()\n",
        "data['pdb _movement'] = data['pdb _movement'].replace(['up','down'],[1,0])\n",
        "Y=data['pdb _movement'].values\n",
        "print(Y)"
      ],
      "metadata": {
        "colab": {
          "base_uri": "https://localhost:8080/",
          "height": 363
        },
        "id": "46thljGlPyHm",
        "outputId": "b5142f53-c76a-47db-c7d9-eda95944d7c8"
      },
      "execution_count": 67,
      "outputs": [
        {
          "output_type": "error",
          "ename": "AttributeError",
          "evalue": "ignored",
          "traceback": [
            "\u001b[0;31m---------------------------------------------------------------------------\u001b[0m",
            "\u001b[0;31mAttributeError\u001b[0m                            Traceback (most recent call last)",
            "\u001b[0;32m<ipython-input-67-11d54472260a>\u001b[0m in \u001b[0;36m<module>\u001b[0;34m\u001b[0m\n\u001b[0;32m----> 1\u001b[0;31m \u001b[0mdata\u001b[0m\u001b[0;34m[\u001b[0m\u001b[0;34m'pdb _movement'\u001b[0m\u001b[0;34m]\u001b[0m\u001b[0;34m=\u001b[0m\u001b[0mdata\u001b[0m\u001b[0;34m[\u001b[0m\u001b[0;34m'pdb _movement'\u001b[0m\u001b[0;34m]\u001b[0m\u001b[0;34m.\u001b[0m\u001b[0mstr\u001b[0m\u001b[0;34m.\u001b[0m\u001b[0mlower\u001b[0m\u001b[0;34m(\u001b[0m\u001b[0;34m)\u001b[0m\u001b[0;34m\u001b[0m\u001b[0;34m\u001b[0m\u001b[0m\n\u001b[0m\u001b[1;32m      2\u001b[0m \u001b[0mdata\u001b[0m\u001b[0;34m[\u001b[0m\u001b[0;34m'pdb _movement'\u001b[0m\u001b[0;34m]\u001b[0m \u001b[0;34m=\u001b[0m \u001b[0mdata\u001b[0m\u001b[0;34m[\u001b[0m\u001b[0;34m'pdb _movement'\u001b[0m\u001b[0;34m]\u001b[0m\u001b[0;34m.\u001b[0m\u001b[0mreplace\u001b[0m\u001b[0;34m(\u001b[0m\u001b[0;34m[\u001b[0m\u001b[0;34m'up'\u001b[0m\u001b[0;34m,\u001b[0m\u001b[0;34m'down'\u001b[0m\u001b[0;34m]\u001b[0m\u001b[0;34m,\u001b[0m\u001b[0;34m[\u001b[0m\u001b[0;36m1\u001b[0m\u001b[0;34m,\u001b[0m\u001b[0;36m0\u001b[0m\u001b[0;34m]\u001b[0m\u001b[0;34m)\u001b[0m\u001b[0;34m\u001b[0m\u001b[0;34m\u001b[0m\u001b[0m\n\u001b[1;32m      3\u001b[0m \u001b[0mY\u001b[0m\u001b[0;34m=\u001b[0m\u001b[0mdata\u001b[0m\u001b[0;34m[\u001b[0m\u001b[0;34m'pdb _movement'\u001b[0m\u001b[0;34m]\u001b[0m\u001b[0;34m.\u001b[0m\u001b[0mvalues\u001b[0m\u001b[0;34m\u001b[0m\u001b[0;34m\u001b[0m\u001b[0m\n\u001b[1;32m      4\u001b[0m \u001b[0mprint\u001b[0m\u001b[0;34m(\u001b[0m\u001b[0mY\u001b[0m\u001b[0;34m)\u001b[0m\u001b[0;34m\u001b[0m\u001b[0;34m\u001b[0m\u001b[0m\n",
            "\u001b[0;32m/usr/local/lib/python3.8/dist-packages/pandas/core/generic.py\u001b[0m in \u001b[0;36m__getattr__\u001b[0;34m(self, name)\u001b[0m\n\u001b[1;32m   5485\u001b[0m         ):\n\u001b[1;32m   5486\u001b[0m             \u001b[0;32mreturn\u001b[0m \u001b[0mself\u001b[0m\u001b[0;34m[\u001b[0m\u001b[0mname\u001b[0m\u001b[0;34m]\u001b[0m\u001b[0;34m\u001b[0m\u001b[0;34m\u001b[0m\u001b[0m\n\u001b[0;32m-> 5487\u001b[0;31m         \u001b[0;32mreturn\u001b[0m \u001b[0mobject\u001b[0m\u001b[0;34m.\u001b[0m\u001b[0m__getattribute__\u001b[0m\u001b[0;34m(\u001b[0m\u001b[0mself\u001b[0m\u001b[0;34m,\u001b[0m \u001b[0mname\u001b[0m\u001b[0;34m)\u001b[0m\u001b[0;34m\u001b[0m\u001b[0;34m\u001b[0m\u001b[0m\n\u001b[0m\u001b[1;32m   5488\u001b[0m \u001b[0;34m\u001b[0m\u001b[0m\n\u001b[1;32m   5489\u001b[0m     \u001b[0;32mdef\u001b[0m \u001b[0m__setattr__\u001b[0m\u001b[0;34m(\u001b[0m\u001b[0mself\u001b[0m\u001b[0;34m,\u001b[0m \u001b[0mname\u001b[0m\u001b[0;34m:\u001b[0m \u001b[0mstr\u001b[0m\u001b[0;34m,\u001b[0m \u001b[0mvalue\u001b[0m\u001b[0;34m)\u001b[0m \u001b[0;34m->\u001b[0m \u001b[0;32mNone\u001b[0m\u001b[0;34m:\u001b[0m\u001b[0;34m\u001b[0m\u001b[0;34m\u001b[0m\u001b[0m\n",
            "\u001b[0;32m/usr/local/lib/python3.8/dist-packages/pandas/core/accessor.py\u001b[0m in \u001b[0;36m__get__\u001b[0;34m(self, obj, cls)\u001b[0m\n\u001b[1;32m    179\u001b[0m             \u001b[0;31m# we're accessing the attribute of the class, i.e., Dataset.geo\u001b[0m\u001b[0;34m\u001b[0m\u001b[0;34m\u001b[0m\u001b[0;34m\u001b[0m\u001b[0m\n\u001b[1;32m    180\u001b[0m             \u001b[0;32mreturn\u001b[0m \u001b[0mself\u001b[0m\u001b[0;34m.\u001b[0m\u001b[0m_accessor\u001b[0m\u001b[0;34m\u001b[0m\u001b[0;34m\u001b[0m\u001b[0m\n\u001b[0;32m--> 181\u001b[0;31m         \u001b[0maccessor_obj\u001b[0m \u001b[0;34m=\u001b[0m \u001b[0mself\u001b[0m\u001b[0;34m.\u001b[0m\u001b[0m_accessor\u001b[0m\u001b[0;34m(\u001b[0m\u001b[0mobj\u001b[0m\u001b[0;34m)\u001b[0m\u001b[0;34m\u001b[0m\u001b[0;34m\u001b[0m\u001b[0m\n\u001b[0m\u001b[1;32m    182\u001b[0m         \u001b[0;31m# Replace the property with the accessor object. Inspired by:\u001b[0m\u001b[0;34m\u001b[0m\u001b[0;34m\u001b[0m\u001b[0;34m\u001b[0m\u001b[0m\n\u001b[1;32m    183\u001b[0m         \u001b[0;31m# https://www.pydanny.com/cached-property.html\u001b[0m\u001b[0;34m\u001b[0m\u001b[0;34m\u001b[0m\u001b[0;34m\u001b[0m\u001b[0m\n",
            "\u001b[0;32m/usr/local/lib/python3.8/dist-packages/pandas/core/strings/accessor.py\u001b[0m in \u001b[0;36m__init__\u001b[0;34m(self, data)\u001b[0m\n\u001b[1;32m    166\u001b[0m         \u001b[0;32mfrom\u001b[0m \u001b[0mpandas\u001b[0m\u001b[0;34m.\u001b[0m\u001b[0mcore\u001b[0m\u001b[0;34m.\u001b[0m\u001b[0marrays\u001b[0m\u001b[0;34m.\u001b[0m\u001b[0mstring_\u001b[0m \u001b[0;32mimport\u001b[0m \u001b[0mStringDtype\u001b[0m\u001b[0;34m\u001b[0m\u001b[0;34m\u001b[0m\u001b[0m\n\u001b[1;32m    167\u001b[0m \u001b[0;34m\u001b[0m\u001b[0m\n\u001b[0;32m--> 168\u001b[0;31m         \u001b[0mself\u001b[0m\u001b[0;34m.\u001b[0m\u001b[0m_inferred_dtype\u001b[0m \u001b[0;34m=\u001b[0m \u001b[0mself\u001b[0m\u001b[0;34m.\u001b[0m\u001b[0m_validate\u001b[0m\u001b[0;34m(\u001b[0m\u001b[0mdata\u001b[0m\u001b[0;34m)\u001b[0m\u001b[0;34m\u001b[0m\u001b[0;34m\u001b[0m\u001b[0m\n\u001b[0m\u001b[1;32m    169\u001b[0m         \u001b[0mself\u001b[0m\u001b[0;34m.\u001b[0m\u001b[0m_is_categorical\u001b[0m \u001b[0;34m=\u001b[0m \u001b[0mis_categorical_dtype\u001b[0m\u001b[0;34m(\u001b[0m\u001b[0mdata\u001b[0m\u001b[0;34m.\u001b[0m\u001b[0mdtype\u001b[0m\u001b[0;34m)\u001b[0m\u001b[0;34m\u001b[0m\u001b[0;34m\u001b[0m\u001b[0m\n\u001b[1;32m    170\u001b[0m         \u001b[0mself\u001b[0m\u001b[0;34m.\u001b[0m\u001b[0m_is_string\u001b[0m \u001b[0;34m=\u001b[0m \u001b[0misinstance\u001b[0m\u001b[0;34m(\u001b[0m\u001b[0mdata\u001b[0m\u001b[0;34m.\u001b[0m\u001b[0mdtype\u001b[0m\u001b[0;34m,\u001b[0m \u001b[0mStringDtype\u001b[0m\u001b[0;34m)\u001b[0m\u001b[0;34m\u001b[0m\u001b[0;34m\u001b[0m\u001b[0m\n",
            "\u001b[0;32m/usr/local/lib/python3.8/dist-packages/pandas/core/strings/accessor.py\u001b[0m in \u001b[0;36m_validate\u001b[0;34m(data)\u001b[0m\n\u001b[1;32m    223\u001b[0m \u001b[0;34m\u001b[0m\u001b[0m\n\u001b[1;32m    224\u001b[0m         \u001b[0;32mif\u001b[0m \u001b[0minferred_dtype\u001b[0m \u001b[0;32mnot\u001b[0m \u001b[0;32min\u001b[0m \u001b[0mallowed_types\u001b[0m\u001b[0;34m:\u001b[0m\u001b[0;34m\u001b[0m\u001b[0;34m\u001b[0m\u001b[0m\n\u001b[0;32m--> 225\u001b[0;31m             \u001b[0;32mraise\u001b[0m \u001b[0mAttributeError\u001b[0m\u001b[0;34m(\u001b[0m\u001b[0;34m\"Can only use .str accessor with string values!\"\u001b[0m\u001b[0;34m)\u001b[0m\u001b[0;34m\u001b[0m\u001b[0;34m\u001b[0m\u001b[0m\n\u001b[0m\u001b[1;32m    226\u001b[0m         \u001b[0;32mreturn\u001b[0m \u001b[0minferred_dtype\u001b[0m\u001b[0;34m\u001b[0m\u001b[0;34m\u001b[0m\u001b[0m\n\u001b[1;32m    227\u001b[0m \u001b[0;34m\u001b[0m\u001b[0m\n",
            "\u001b[0;31mAttributeError\u001b[0m: Can only use .str accessor with string values!"
          ]
        }
      ]
    },
    {
      "cell_type": "code",
      "source": [
        "X_train, X_test, Y_train, Y_test = train_test_split(X, Y, test_size = 0.2, stratify=Y, random_state=2)"
      ],
      "metadata": {
        "id": "kkktoHhMLyTE"
      },
      "execution_count": 33,
      "outputs": []
    },
    {
      "cell_type": "code",
      "source": [
        "dfX_train = pd.DataFrame(X_train)\n",
        "dfX_train = dfX_train.rename(columns = {0:'X_train'})\n",
        "dfY_train = pd.DataFrame(Y_train)\n",
        "dfY_train = dfY_train.rename(columns = {0:'Y_train'})\n",
        "dfY_train = dfY_train.replace([1,0],['up','down'])\n",
        "RandTrainData= pd.concat([dfX_train, dfY_train], axis=1)\n",
        "print(RandTrainData)"
      ],
      "metadata": {
        "colab": {
          "base_uri": "https://localhost:8080/"
        },
        "id": "_RV0l8JsUdEr",
        "outputId": "888ec3f0-7305-4ec1-bb5f-0052c09b6163"
      },
      "execution_count": 34,
      "outputs": [
        {
          "output_type": "stream",
          "name": "stdout",
          "text": [
            "                                                X_train Y_train\n",
            "0     kominfo php lelang frekuensi 2 1 ghz kementeri...    down\n",
            "1     imi gaet csgi bangun spklu ultra fast charg to...      up\n",
            "2     hilang top 1000 smak 1 penabur jakarta data be...    down\n",
            "3     pilu guru smk swasta sepi peminat gaji alih pr...    down\n",
            "4     hai kpoper pesan gojek kejutan spesial bt anny...      up\n",
            "...                                                 ...     ...\n",
            "1221  erick raup cuan jutaan rupiah kerajinan unik b...      up\n",
            "1222  zulha blusukan gudang pabrik erigo banten ment...      up\n",
            "1223  300 an sekolah brebe rusak dindikpora diajukan...    down\n",
            "1224  pemprov dki perbaikan jl mt haryono rasuna sai...      up\n",
            "1225  kampung budaya karawang senilai rp 40 m terben...      up\n",
            "\n",
            "[1226 rows x 2 columns]\n"
          ]
        }
      ]
    },
    {
      "cell_type": "code",
      "source": [
        "RandTrainData.to_csv('RandTrainData.csv', encoding = 'utf-8-sig') \n",
        "#files.download('RandTrainData.csv')"
      ],
      "metadata": {
        "id": "QJ_tlZzPWpbF"
      },
      "execution_count": 35,
      "outputs": []
    },
    {
      "cell_type": "code",
      "source": [
        "dfX_test = pd.DataFrame(X_test)\n",
        "dfX_test = dfX_test.rename(columns = {0:'X_test'})\n",
        "dfY_test = pd.DataFrame(Y_test)\n",
        "dfY_test = dfY_test.rename(columns = {0:'Y_test'})\n",
        "dfY_test = dfY_test.replace([1,0],['up','down'])\n",
        "RandTestData= pd.concat([dfX_test, dfY_test], axis=1)\n",
        "print(RandTestData)"
      ],
      "metadata": {
        "colab": {
          "base_uri": "https://localhost:8080/"
        },
        "id": "XNotoq81VX-0",
        "outputId": "c8c53e5a-556b-4e9e-c247-517e0342e427"
      },
      "execution_count": 36,
      "outputs": [
        {
          "output_type": "stream",
          "name": "stdout",
          "text": [
            "                                                X_test Y_test\n",
            "0    sma ekskul bulutangki pelatihnya candra wijaya...     up\n",
            "1    berkat proyek rumah nempel stasiun anak usaha ...     up\n",
            "2    aksi taufik hidayat main bulu tangki bikin war...     up\n",
            "3    tunggak iuran bpj kesehatan puluhan warga kota...     up\n",
            "4    tokopedia tren belanja semest i 2022 kategori ...     up\n",
            "..                                                 ...    ...\n",
            "302  hutama karya rampungkan konstruksi gedung ojk ...     up\n",
            "303  pgn tertarik garap sumur ga sinamar sijunjung ...     up\n",
            "304  beli motor honda cash dipersulit lapor lur kon...   down\n",
            "305  17 500 rumah 2 kabupaten nikmati sambungan ga ...     up\n",
            "306  inkai gelar kejuaraan karat alt cup iv 2022 te...     up\n",
            "\n",
            "[307 rows x 2 columns]\n"
          ]
        }
      ]
    },
    {
      "cell_type": "code",
      "source": [
        "RandTestData.to_csv('RandTestData.csv', encoding = 'utf-8-sig') \n",
        "#files.download('RandTestData.csv')"
      ],
      "metadata": {
        "id": "WcpfcsF9MNuO"
      },
      "execution_count": 37,
      "outputs": []
    },
    {
      "cell_type": "code",
      "execution_count": 38,
      "metadata": {
        "id": "5HChsGMRLqWP"
      },
      "outputs": [],
      "source": [
        "from sklearn.feature_extraction.text import CountVectorizer, TfidfVectorizer\n",
        "vectorizer = TfidfVectorizer()\n",
        "train_input = vectorizer.fit_transform(RandTrainData['X_train'])\n",
        "test_input = vectorizer.transform(RandTestData['X_test'])"
      ]
    },
    {
      "cell_type": "code",
      "source": [
        "len(vectorizer.get_feature_names_out()), vectorizer.get_feature_names_out()[0:20]"
      ],
      "metadata": {
        "colab": {
          "base_uri": "https://localhost:8080/"
        },
        "id": "GECQz8PCv381",
        "outputId": "375c1f5f-e495-450b-e18e-b9c36c525728"
      },
      "execution_count": 39,
      "outputs": [
        {
          "output_type": "execute_result",
          "data": {
            "text/plain": [
              "(24876, array(['00', '000', '0000', '0002', '000adapun', '000an', '000cc',\n",
              "        '000jalur', '000total', '001', '002', '003', '004', '005', '006',\n",
              "        '01', '010', '012', '013', '014'], dtype=object))"
            ]
          },
          "metadata": {},
          "execution_count": 39
        }
      ]
    },
    {
      "cell_type": "markdown",
      "source": [
        "# **SVC**"
      ],
      "metadata": {
        "id": "ZdmzX1A34SPH"
      }
    },
    {
      "cell_type": "code",
      "source": [
        "%%time\n",
        "from sklearn.svm import SVC\n",
        "model = SVC(random_state=2)\n",
        "model = model.fit(train_input,  RandTrainData['Y_train'])"
      ],
      "metadata": {
        "colab": {
          "base_uri": "https://localhost:8080/"
        },
        "id": "fc1IO0BjwFmH",
        "outputId": "5cf91ae1-5f98-4e01-945e-2576fcdb89ad"
      },
      "execution_count": 47,
      "outputs": [
        {
          "output_type": "stream",
          "name": "stdout",
          "text": [
            "CPU times: user 2.35 s, sys: 25.1 ms, total: 2.38 s\n",
            "Wall time: 2.38 s\n"
          ]
        }
      ]
    },
    {
      "cell_type": "code",
      "source": [
        "#clone forked IndoNLU Github\n",
        "!git clone 'https://github.com/dindapusparahmi/IndoNLU/'"
      ],
      "metadata": {
        "colab": {
          "base_uri": "https://localhost:8080/"
        },
        "id": "JhOGXCkPwDot",
        "outputId": "f9b7a0e0-8671-4947-f1ae-b19fd1a10c5f"
      },
      "execution_count": 48,
      "outputs": [
        {
          "output_type": "stream",
          "name": "stdout",
          "text": [
            "Cloning into 'IndoNLU'...\n",
            "remote: Enumerating objects: 500, done.\u001b[K\n",
            "remote: Counting objects: 100% (184/184), done.\u001b[K\n",
            "remote: Compressing objects: 100% (73/73), done.\u001b[K\n",
            "remote: Total 500 (delta 115), reused 142 (delta 111), pack-reused 316\u001b[K\n",
            "Receiving objects: 100% (500/500), 9.45 MiB | 15.17 MiB/s, done.\n",
            "Resolving deltas: 100% (235/235), done.\n"
          ]
        }
      ]
    },
    {
      "cell_type": "code",
      "source": [
        "!pip install conlleval"
      ],
      "metadata": {
        "colab": {
          "base_uri": "https://localhost:8080/"
        },
        "id": "mxPgtJBF2WWZ",
        "outputId": "71ddd81f-4d3e-4933-880c-60b33621b442"
      },
      "execution_count": 51,
      "outputs": [
        {
          "output_type": "stream",
          "name": "stdout",
          "text": [
            "Looking in indexes: https://pypi.org/simple, https://us-python.pkg.dev/colab-wheels/public/simple/\n",
            "Collecting conlleval\n",
            "  Downloading conlleval-0.2-py3-none-any.whl (5.4 kB)\n",
            "Installing collected packages: conlleval\n",
            "Successfully installed conlleval-0.2\n"
          ]
        }
      ]
    },
    {
      "cell_type": "code",
      "source": [
        "import itertools\n",
        "from sklearn.metrics import accuracy_score, f1_score, recall_score, precision_score\n",
        "import conlleval\n",
        "#from .conlleval import conll_evaluation\n",
        "\n",
        "def document_sentiment_metrics_fn(list_hyp, list_label):\n",
        "    metrics = {}\n",
        "    metrics[\"ACC\"] = accuracy_score(list_label, list_hyp)\n",
        "    metrics[\"F1\"] = f1_score(list_label, list_hyp, average='macro')\n",
        "    metrics[\"REC\"] = recall_score(list_label, list_hyp, average='macro')\n",
        "    metrics[\"PRE\"] = precision_score(list_label, list_hyp, average='macro')\n",
        "    return metrics\n"
      ],
      "metadata": {
        "id": "a1A9NSHM11af"
      },
      "execution_count": 54,
      "outputs": []
    },
    {
      "cell_type": "code",
      "source": [
        "%%time\n",
        "hyps = model.predict(train_input)\n",
        "document_sentiment_metrics_fn(hyps,  RandTrainData['Y_train'])"
      ],
      "metadata": {
        "colab": {
          "base_uri": "https://localhost:8080/"
        },
        "id": "ahHrVvUKwwMd",
        "outputId": "f5d80534-9e22-4149-8a0d-b34cfca57ae4"
      },
      "execution_count": 56,
      "outputs": [
        {
          "output_type": "stream",
          "name": "stdout",
          "text": [
            "CPU times: user 3.17 s, sys: 8.64 ms, total: 3.18 s\n",
            "Wall time: 4.58 s\n"
          ]
        },
        {
          "output_type": "execute_result",
          "data": {
            "text/plain": [
              "{'ACC': 0.9763458401305057,\n",
              " 'F1': 0.9699675043565448,\n",
              " 'REC': 0.9618842119240473,\n",
              " 'PRE': 0.9789521694979433}"
            ]
          },
          "metadata": {},
          "execution_count": 56
        }
      ]
    },
    {
      "cell_type": "code",
      "source": [
        "%%time\n",
        "hyps = model.predict(test_input)\n",
        "document_sentiment_metrics_fn(hyps,RandTestData['Y_test'])"
      ],
      "metadata": {
        "colab": {
          "base_uri": "https://localhost:8080/"
        },
        "id": "CpDyoEXn32PH",
        "outputId": "d4e77464-f593-4500-9c67-3b64ee20f6ef"
      },
      "execution_count": 57,
      "outputs": [
        {
          "output_type": "stream",
          "name": "stdout",
          "text": [
            "CPU times: user 625 ms, sys: 972 µs, total: 626 ms\n",
            "Wall time: 633 ms\n"
          ]
        },
        {
          "output_type": "execute_result",
          "data": {
            "text/plain": [
              "{'ACC': 0.8013029315960912,\n",
              " 'F1': 0.7134309629833662,\n",
              " 'REC': 0.6919978802331743,\n",
              " 'PRE': 0.7732277526395173}"
            ]
          },
          "metadata": {},
          "execution_count": 57
        }
      ]
    },
    {
      "cell_type": "markdown",
      "source": [
        "# **Random Forest**"
      ],
      "metadata": {
        "id": "wPnuWLpN4WH_"
      }
    },
    {
      "cell_type": "code",
      "source": [
        "%%time\n",
        "from sklearn.ensemble import RandomForestClassifier\n",
        "rf_model = RandomForestClassifier(n_estimators = 1000, random_state = 2)\n",
        "rf_model = rf_model.fit(train_input,  RandTrainData['Y_train'])"
      ],
      "metadata": {
        "colab": {
          "base_uri": "https://localhost:8080/"
        },
        "id": "V8DsGSiN4Cij",
        "outputId": "0aa970fb-463f-4ed3-ac96-60e93ff41bdd"
      },
      "execution_count": 59,
      "outputs": [
        {
          "output_type": "stream",
          "name": "stdout",
          "text": [
            "CPU times: user 13.1 s, sys: 97 ms, total: 13.2 s\n",
            "Wall time: 14.7 s\n"
          ]
        }
      ]
    },
    {
      "cell_type": "code",
      "source": [
        "%%time\n",
        "rf_hyps = rf_model.predict(train_input)\n",
        "document_sentiment_metrics_fn(rf_hyps,  RandTrainData['Y_train'])"
      ],
      "metadata": {
        "colab": {
          "base_uri": "https://localhost:8080/"
        },
        "id": "rD6j0b434_Tx",
        "outputId": "49ce122c-804e-477c-c932-70abc31bc42a"
      },
      "execution_count": 60,
      "outputs": [
        {
          "output_type": "stream",
          "name": "stdout",
          "text": [
            "CPU times: user 1.2 s, sys: 972 µs, total: 1.2 s\n",
            "Wall time: 1.2 s\n"
          ]
        },
        {
          "output_type": "execute_result",
          "data": {
            "text/plain": [
              "{'ACC': 1.0, 'F1': 1.0, 'REC': 1.0, 'PRE': 1.0}"
            ]
          },
          "metadata": {},
          "execution_count": 60
        }
      ]
    },
    {
      "cell_type": "code",
      "source": [
        "%%time\n",
        "rf_hyps = rf_model.predict(test_input)\n",
        "document_sentiment_metrics_fn(rf_hyps,RandTestData['Y_test'])"
      ],
      "metadata": {
        "colab": {
          "base_uri": "https://localhost:8080/"
        },
        "id": "DtMNRwP95Tvv",
        "outputId": "034e3398-1cd5-4371-84d5-5602f45fed6e"
      },
      "execution_count": 61,
      "outputs": [
        {
          "output_type": "stream",
          "name": "stdout",
          "text": [
            "CPU times: user 484 ms, sys: 0 ns, total: 484 ms\n",
            "Wall time: 483 ms\n"
          ]
        },
        {
          "output_type": "execute_result",
          "data": {
            "text/plain": [
              "{'ACC': 0.8175895765472313,\n",
              " 'F1': 0.7297875015717339,\n",
              " 'REC': 0.7032591414944356,\n",
              " 'PRE': 0.8138707037643207}"
            ]
          },
          "metadata": {},
          "execution_count": 61
        }
      ]
    },
    {
      "cell_type": "markdown",
      "source": [
        "# **Logistic Regression**"
      ],
      "metadata": {
        "id": "XLBBwIEs5ibS"
      }
    },
    {
      "cell_type": "code",
      "source": [
        "%%time\n",
        "from sklearn.linear_model import LogisticRegression\n",
        "lr_model = LogisticRegression(random_state=2)\n",
        "lr_model = lr_model.fit(train_input,  RandTrainData['Y_train'])"
      ],
      "metadata": {
        "colab": {
          "base_uri": "https://localhost:8080/"
        },
        "id": "GAy45Zaj5gxD",
        "outputId": "ace231f6-ab32-465e-b8ba-e8c4c0bd17a2"
      },
      "execution_count": 62,
      "outputs": [
        {
          "output_type": "stream",
          "name": "stdout",
          "text": [
            "CPU times: user 498 ms, sys: 342 ms, total: 840 ms\n",
            "Wall time: 814 ms\n"
          ]
        }
      ]
    },
    {
      "cell_type": "code",
      "source": [
        "%%time\n",
        "lr_hyps = lr_model.predict(train_input)\n",
        "document_sentiment_metrics_fn(lr_hyps,  RandTrainData['Y_train'])"
      ],
      "metadata": {
        "colab": {
          "base_uri": "https://localhost:8080/"
        },
        "id": "MyLJaHKT55jF",
        "outputId": "67fc64fe-5900-49fa-e48b-e89f0b6024e7"
      },
      "execution_count": 63,
      "outputs": [
        {
          "output_type": "stream",
          "name": "stdout",
          "text": [
            "CPU times: user 39.6 ms, sys: 0 ns, total: 39.6 ms\n",
            "Wall time: 43.4 ms\n"
          ]
        },
        {
          "output_type": "execute_result",
          "data": {
            "text/plain": [
              "{'ACC': 0.8482871125611745,\n",
              " 'F1': 0.7690896276854282,\n",
              " 'REC': 0.7328143672819014,\n",
              " 'PRE': 0.8945730938878387}"
            ]
          },
          "metadata": {},
          "execution_count": 63
        }
      ]
    },
    {
      "cell_type": "code",
      "source": [
        "%%time\n",
        "lr_hyps = lr_model.predict(test_input)\n",
        "document_sentiment_metrics_fn(lr_hyps,RandTestData['Y_test'])"
      ],
      "metadata": {
        "colab": {
          "base_uri": "https://localhost:8080/"
        },
        "id": "LUvc8g_M6Ggq",
        "outputId": "a061957c-4bef-4eb3-a1cb-91a1c6ebe2b9"
      },
      "execution_count": 64,
      "outputs": [
        {
          "output_type": "stream",
          "name": "stdout",
          "text": [
            "CPU times: user 20.1 ms, sys: 0 ns, total: 20.1 ms\n",
            "Wall time: 30.2 ms\n"
          ]
        },
        {
          "output_type": "execute_result",
          "data": {
            "text/plain": [
              "{'ACC': 0.7882736156351792,\n",
              " 'F1': 0.6568298680974738,\n",
              " 'REC': 0.6394276629570748,\n",
              " 'PRE': 0.7989772727272727}"
            ]
          },
          "metadata": {},
          "execution_count": 64
        }
      ]
    },
    {
      "cell_type": "markdown",
      "source": [
        "# **5 FOLD CROSS VALIDATION**"
      ],
      "metadata": {
        "id": "ZwDyjj7X6SN-"
      }
    },
    {
      "cell_type": "code",
      "source": [
        "from sklearn.feature_extraction.text import CountVectorizer, TfidfVectorizer\n",
        "vectorizer = TfidfVectorizer()\n",
        "X_input = vectorizer.fit_transform(X)"
      ],
      "metadata": {
        "id": "W8eAGQJ89ECH"
      },
      "execution_count": 69,
      "outputs": []
    },
    {
      "cell_type": "code",
      "source": [
        "print(Y)"
      ],
      "metadata": {
        "colab": {
          "base_uri": "https://localhost:8080/"
        },
        "id": "u_aGW4e19ZMq",
        "outputId": "adfeeaaa-0895-4a43-9ca6-28e68ed74a47"
      },
      "execution_count": 70,
      "outputs": [
        {
          "output_type": "stream",
          "name": "stdout",
          "text": [
            "[1 1 1 ... 1 1 0]\n"
          ]
        }
      ]
    },
    {
      "cell_type": "code",
      "source": [
        "cv_score_lr = cross_val_score(LogisticRegression(max_iter=1000, random_state=2), X_input, Y, cv=5)#using Stratified Kfold with k =5 so, each class distribution will be even, similar to the original dataset\n",
        "\n",
        "print(cv_score_lr)\n",
        "\n",
        "mean_accuracy_lr = sum(cv_score_lr)/len(cv_score_lr)\n",
        "\n",
        "mean_accuracy_lr = mean_accuracy_lr*100\n",
        "\n",
        "mean_accuracy_lr = round(mean_accuracy_lr, 2)\n",
        "\n",
        "print(mean_accuracy_lr)"
      ],
      "metadata": {
        "colab": {
          "base_uri": "https://localhost:8080/"
        },
        "id": "x5hTiRVm6WLX",
        "outputId": "668c94a0-2d0d-4bb8-d42e-03312ba325c3"
      },
      "execution_count": 71,
      "outputs": [
        {
          "output_type": "stream",
          "name": "stdout",
          "text": [
            "[0.68403909 0.6970684  0.71009772 0.73529412 0.78104575]\n",
            "72.15\n"
          ]
        }
      ]
    },
    {
      "cell_type": "code",
      "source": [
        "#list of the models\n",
        "from sklearn.neighbors import KNeighborsClassifier\n",
        "models = [LogisticRegression(max_iter=1000, random_state=2), SVC(kernel='linear', random_state=2), KNeighborsClassifier(), RandomForestClassifier(n_estimators = 1000, random_state = 2)]"
      ],
      "metadata": {
        "id": "4d6OQjqi9jKH"
      },
      "execution_count": 72,
      "outputs": []
    },
    {
      "cell_type": "code",
      "source": [
        "def compare_models_cross_validation():\n",
        "\n",
        "  for model in models:\n",
        "\n",
        "    cv_score_acc = cross_val_score(model, X_input, Y, cv=5, scoring=\"accuracy\")\n",
        "    \n",
        "    mean_accuracy = sum(cv_score_acc)/len(cv_score_acc)\n",
        "\n",
        "    mean_accuracy = mean_accuracy*100\n",
        "\n",
        "    mean_accuracy = round(mean_accuracy, 2)\n",
        "\n",
        "    print('Cross Validation accuracies for ', model, '=  ', cv_score_acc)\n",
        "    print('Accuracy % of the ', model, mean_accuracy)\n",
        "    print('\\n')\n",
        "    cv_score_precision = cross_val_score(model, X_input, Y, cv=5, scoring=\"precision\")\n",
        "    \n",
        "    mean_precision = sum(cv_score_precision)/len(cv_score_precision)\n",
        "\n",
        "    mean_precision = mean_precision*100\n",
        "\n",
        "    mean_precision= round(mean_precision, 2)\n",
        "    print('Cross Validation precisions for ', model, '=  ', cv_score_precision)\n",
        "    print('precision % of the ', model, mean_precision)\n",
        "    print('\\n')\n",
        "    cv_score_recall = cross_val_score(model, X_input, Y, cv=5, scoring=\"recall\")\n",
        "    \n",
        "    mean_recall = sum(cv_score_recall)/len(cv_score_recall)\n",
        "\n",
        "    mean_recall = mean_recall*100\n",
        "\n",
        "    mean_recall = round(mean_recall, 2)\n",
        "\n",
        "    print('Cross Validation recalls for ', model, '=  ', cv_score_recall)\n",
        "    print('recall % of the ', model, mean_recall)\n",
        "    print('\\n')\n",
        "    cv_score_f1 = cross_val_score(model, X_input, Y, cv=5, scoring=\"f1\")\n",
        "    \n",
        "    mean_f1 = sum(cv_score_f1)/len(cv_score_f1)\n",
        "\n",
        "    mean_f1 = mean_f1*100\n",
        "\n",
        "    mean_f1 = round(mean_f1, 2)\n",
        "\n",
        "    print('Cross Validation f1-Scores for ', model, '=  ', cv_score_f1)\n",
        "    print('F1-score % of the ', model, mean_f1)\n",
        "    print('\\n----------------------------------------------\\n')\n",
        "    \n",
        "    "
      ],
      "metadata": {
        "id": "Ir8b6qTp9xAU"
      },
      "execution_count": 73,
      "outputs": []
    },
    {
      "cell_type": "code",
      "source": [
        "compare_models_cross_validation()"
      ],
      "metadata": {
        "colab": {
          "base_uri": "https://localhost:8080/"
        },
        "id": "sretWYdM-cV7",
        "outputId": "2b369cb1-ee5e-48c9-8a46-84bcecfcf8fc"
      },
      "execution_count": 74,
      "outputs": [
        {
          "output_type": "stream",
          "name": "stdout",
          "text": [
            "Cross Validation accuracies for  LogisticRegression(max_iter=1000, random_state=2) =   [0.68403909 0.6970684  0.71009772 0.73529412 0.78104575]\n",
            "Accuracy % of the  LogisticRegression(max_iter=1000, random_state=2) 72.15\n",
            "\n",
            "\n",
            "Cross Validation precisions for  LogisticRegression(max_iter=1000, random_state=2) =   [0.71777003 0.72164948 0.72093023 0.73489933 0.77697842]\n",
            "precision % of the  LogisticRegression(max_iter=1000, random_state=2) 73.44\n",
            "\n",
            "\n",
            "Cross Validation recalls for  LogisticRegression(max_iter=1000, random_state=2) =   [0.92792793 0.94594595 0.97747748 0.99095023 0.97737557]\n",
            "recall % of the  LogisticRegression(max_iter=1000, random_state=2) 96.39\n",
            "\n",
            "\n",
            "Cross Validation f1-Scores for  LogisticRegression(max_iter=1000, random_state=2) =   [0.80943026 0.81871345 0.82982792 0.84393064 0.86573146]\n",
            "F1-score % of the  LogisticRegression(max_iter=1000, random_state=2) 83.35\n",
            "\n",
            "----------------------------------------------\n",
            "\n",
            "Cross Validation accuracies for  SVC(kernel='linear', random_state=2) =   [0.68403909 0.63192182 0.72638436 0.76470588 0.82679739]\n",
            "Accuracy % of the  SVC(kernel='linear', random_state=2) 72.68\n",
            "\n",
            "\n",
            "Cross Validation precisions for  SVC(kernel='linear', random_state=2) =   [0.76150628 0.70566038 0.73958333 0.76512456 0.85294118]\n",
            "precision % of the  SVC(kernel='linear', random_state=2) 76.5\n",
            "\n",
            "\n",
            "Cross Validation recalls for  SVC(kernel='linear', random_state=2) =   [0.81981982 0.84234234 0.95945946 0.97285068 0.91855204]\n",
            "recall % of the  SVC(kernel='linear', random_state=2) 90.26\n",
            "\n",
            "\n",
            "Cross Validation f1-Scores for  SVC(kernel='linear', random_state=2) =   [0.78958785 0.76796715 0.83529412 0.85657371 0.88453159]\n",
            "F1-score % of the  SVC(kernel='linear', random_state=2) 82.68\n",
            "\n",
            "----------------------------------------------\n",
            "\n",
            "Cross Validation accuracies for  KNeighborsClassifier() =   [0.6514658  0.56026059 0.66775244 0.70588235 0.75163399]\n",
            "Accuracy % of the  KNeighborsClassifier() 66.74\n",
            "\n",
            "\n",
            "Cross Validation precisions for  KNeighborsClassifier() =   [0.74678112 0.69162996 0.7189781  0.75686275 0.85365854]\n",
            "precision % of the  KNeighborsClassifier() 75.36\n",
            "\n",
            "\n",
            "Cross Validation recalls for  KNeighborsClassifier() =   [0.78378378 0.70720721 0.88738739 0.87330317 0.7918552 ]\n",
            "recall % of the  KNeighborsClassifier() 80.87\n",
            "\n",
            "\n",
            "Cross Validation f1-Scores for  KNeighborsClassifier() =   [0.76483516 0.69933185 0.79435484 0.81092437 0.82159624]\n",
            "F1-score % of the  KNeighborsClassifier() 77.82\n",
            "\n",
            "----------------------------------------------\n",
            "\n",
            "Cross Validation accuracies for  RandomForestClassifier(n_estimators=1000, random_state=2) =   [0.69055375 0.6970684  0.72964169 0.75163399 0.7745098 ]\n",
            "Accuracy % of the  RandomForestClassifier(n_estimators=1000, random_state=2) 72.87\n",
            "\n",
            "\n",
            "Cross Validation precisions for  RandomForestClassifier(n_estimators=1000, random_state=2) =   [0.72597865 0.72013652 0.73400673 0.75261324 0.77737226]\n",
            "precision % of the  RandomForestClassifier(n_estimators=1000, random_state=2) 74.2\n",
            "\n",
            "\n",
            "Cross Validation recalls for  RandomForestClassifier(n_estimators=1000, random_state=2) =   [0.91891892 0.95045045 0.98198198 0.97737557 0.9638009 ]\n",
            "recall % of the  RandomForestClassifier(n_estimators=1000, random_state=2) 95.85\n",
            "\n",
            "\n",
            "Cross Validation f1-Scores for  RandomForestClassifier(n_estimators=1000, random_state=2) =   [0.8111332  0.81941748 0.84007707 0.8503937  0.86060606]\n",
            "F1-score % of the  RandomForestClassifier(n_estimators=1000, random_state=2) 83.63\n",
            "\n",
            "----------------------------------------------\n",
            "\n"
          ]
        }
      ]
    },
    {
      "cell_type": "markdown",
      "source": [
        "# **Condusion Matrix for Random Forest**"
      ],
      "metadata": {
        "id": "VdeIrKX4_FdD"
      }
    },
    {
      "cell_type": "code",
      "source": [
        "# Calculate the confusion matrix\n",
        "from sklearn.metrics import confusion_matrix\n",
        "conf_matrix = confusion_matrix(y_true=RandTestData['Y_test'], y_pred=rf_hyps)\n",
        "conf_matrix"
      ],
      "metadata": {
        "colab": {
          "base_uri": "https://localhost:8080/"
        },
        "id": "DtlsSMX--tYi",
        "outputId": "0d5f90fb-f688-4ec3-8634-5450105f06fd"
      },
      "execution_count": 75,
      "outputs": [
        {
          "output_type": "execute_result",
          "data": {
            "text/plain": [
              "array([[ 38,  47],\n",
              "       [  9, 213]])"
            ]
          },
          "metadata": {},
          "execution_count": 75
        }
      ]
    },
    {
      "cell_type": "code",
      "source": [
        "# Print the confusion matrix using Matplotlib\n",
        "import matplotlib.pyplot as plt\n",
        "\n",
        "fig, ax = plt.subplots(figsize=(5, 5))\n",
        "ax.matshow(conf_matrix, cmap=plt.cm.Oranges, alpha=0.3)\n",
        "for i in range(conf_matrix.shape[0]):\n",
        "    for j in range(conf_matrix.shape[1]):\n",
        "        ax.text(x=j, y=i,s=conf_matrix[i, j], va='center', ha='center', size='xx-large')\n",
        " \n",
        "plt.xlabel('Predictions', fontsize=18)\n",
        "plt.ylabel('Actuals', fontsize=18)\n",
        "plt.title('Confusion Matrix', fontsize=18)\n",
        "plt.show()"
      ],
      "metadata": {
        "colab": {
          "base_uri": "https://localhost:8080/",
          "height": 365
        },
        "id": "MBON-RaQ-95g",
        "outputId": "f7f7b2fb-f083-4662-8e82-4144d08f022d"
      },
      "execution_count": 76,
      "outputs": [
        {
          "output_type": "display_data",
          "data": {
            "text/plain": [
              "<Figure size 360x360 with 1 Axes>"
            ],
            "image/png": "[encoded data removed]"
          },
          "metadata": {
            "needs_background": "light"
          }
        }
      ]
    }
  ]
}